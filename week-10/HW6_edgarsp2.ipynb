{
 "cells": [
  {
   "cell_type": "markdown",
   "metadata": {},
   "source": [
    "# STAT 542 / CS 598: Homework 6\n",
    "Fall 2019, by Edgar Pino\n",
    "\n",
    "Due: Monday, Nov 11 by 11:59 PM Pacific Time"
   ]
  },
  {
   "cell_type": "code",
   "execution_count": 181,
   "metadata": {},
   "outputs": [],
   "source": [
    "%matplotlib inline"
   ]
  },
  {
   "cell_type": "code",
   "execution_count": 218,
   "metadata": {},
   "outputs": [],
   "source": [
    "import matplotlib.pyplot as plt\n",
    "import numpy as np\n",
    "from cvxopt import matrix, solvers"
   ]
  },
  {
   "cell_type": "markdown",
   "metadata": {},
   "source": [
    "# Question 1 [50 Points] Linearly Separable SVM using Quadratic Programming"
   ]
  },
  {
   "cell_type": "code",
   "execution_count": 219,
   "metadata": {},
   "outputs": [],
   "source": [
    "np.random.seed(1)"
   ]
  },
  {
   "cell_type": "code",
   "execution_count": 264,
   "metadata": {},
   "outputs": [],
   "source": [
    "COLOR_LABELS = [\"darkorange\",\"deepskyblue\"]"
   ]
  },
  {
   "cell_type": "code",
   "execution_count": 265,
   "metadata": {},
   "outputs": [],
   "source": [
    "N = 40\n",
    "P = 2"
   ]
  },
  {
   "cell_type": "code",
   "execution_count": 266,
   "metadata": {},
   "outputs": [],
   "source": [
    "xpos = np.random.normal(0, 1,(N,P))\n",
    "xneg = np.random.normal(4, 1,(N,P))"
   ]
  },
  {
   "cell_type": "code",
   "execution_count": 267,
   "metadata": {},
   "outputs": [],
   "source": [
    "x = np.concatenate((xpos, xneg), axis=0)\n",
    "y = np.concatenate((np.ones((N,)), -np.ones((N,))), axis=0)"
   ]
  },
  {
   "cell_type": "code",
   "execution_count": 270,
   "metadata": {},
   "outputs": [],
   "source": [
    "def plot_data(x, y):\n",
    "    unique = np.unique(y)\n",
    "    for li in range(len(unique)):\n",
    "        items = x[y == unique[li]]\n",
    "        label = 'Positive' if unique[li] == -1 else 'Negative'\n",
    "        plt.scatter(items[:, 0], items[:, 1], c = COLOR_LABELS[li], label=label)\n",
    "    plt.legend()"
   ]
  },
  {
   "cell_type": "code",
   "execution_count": 272,
   "metadata": {},
   "outputs": [
    {
     "data": {
      "image/png": "[encoded data removed]",
      "text/plain": [
       "<Figure size 432x288 with 1 Axes>"
      ]
     },
     "metadata": {
      "needs_background": "light"
     },
     "output_type": "display_data"
    }
   ],
   "source": [
    "plot_data(x,y)"
   ]
  },
  {
   "cell_type": "markdown",
   "metadata": {},
   "source": [
    "### Fit"
   ]
  },
  {
   "cell_type": "code",
   "execution_count": 273,
   "metadata": {},
   "outputs": [],
   "source": [
    "def fit(x, y): \n",
    "    NUM = x.shape[0]\n",
    "    DIM = x.shape[1]\n",
    "    K = y[:, None] * x\n",
    "    K = np.dot(K, K.T)\n",
    "    P = matrix(K)\n",
    "    q = matrix(-np.ones((NUM, 1)))\n",
    "    G = matrix(-np.eye(NUM))\n",
    "    h = matrix(np.zeros(NUM))\n",
    "    A = matrix(y.reshape(1, -1))\n",
    "    b = matrix(np.zeros(1))\n",
    "    \n",
    "    solvers.options['show_progress'] = False\n",
    "    \n",
    "    return solvers.qp(P, q, G, h, A, b)"
   ]
  },
  {
   "cell_type": "code",
   "execution_count": 274,
   "metadata": {},
   "outputs": [],
   "source": [
    "def plot_separator(ax, w, b):\n",
    "    slope = -w[0] / w[1]\n",
    "    intercept = -b / w[1]\n",
    "    x = np.arange(0, 6)\n",
    "    ax.plot(x, x * slope + intercept, 'k-')"
   ]
  },
  {
   "cell_type": "code",
   "execution_count": 275,
   "metadata": {},
   "outputs": [],
   "source": [
    "def plot_data_with_labels(x, y, ax):\n",
    "    unique = np.unique(y)\n",
    "    for li in range(len(unique)):\n",
    "        x_sub = x[y == unique[li]]\n",
    "        label = 'Positive' if unique[li] == 1 else 'Negative'\n",
    "        ax.scatter(x_sub[:, 0], x_sub[:, 1], c = COLOR_LABELS[li], label=label)"
   ]
  },
  {
   "cell_type": "code",
   "execution_count": 276,
   "metadata": {},
   "outputs": [],
   "source": [
    "sol = fit(x, y)\n",
    "alphas = np.array(sol['x'])"
   ]
  },
  {
   "cell_type": "code",
   "execution_count": 277,
   "metadata": {},
   "outputs": [
    {
     "data": {
      "image/png": "[encoded data removed]",
      "text/plain": [
       "<Figure size 432x288 with 1 Axes>"
      ]
     },
     "metadata": {
      "needs_background": "light"
     },
     "output_type": "display_data"
    }
   ],
   "source": [
    "w = np.sum(alphas * y[:, None] * x, axis = 0)\n",
    "cond = (alphas > 1e-4).reshape(-1)\n",
    "b = y[cond] - np.dot(x[cond], w)\n",
    "bias = b[0]\n",
    "\n",
    "norm = np.linalg.norm(w)\n",
    "w, bias = w / norm, bias / norm\n",
    "\n",
    "fig, ax = plt.subplots()\n",
    "plot_separator(ax, w, bias)\n",
    "plot_data_with_labels(x, y, ax)\n",
    "\n",
    "plt.legend()\n",
    "plt.show()"
   ]
  },
  {
   "cell_type": "code",
   "execution_count": null,
   "metadata": {},
   "outputs": [],
   "source": []
  },
  {
   "cell_type": "markdown",
   "metadata": {},
   "source": [
    "# Question 2 [25 Points] Linearly Non-seperable SVM using Penalized Loss"
   ]
  },
  {
   "cell_type": "code",
   "execution_count": 278,
   "metadata": {},
   "outputs": [],
   "source": [
    "np.random.seed(1)"
   ]
  },
  {
   "cell_type": "code",
   "execution_count": 279,
   "metadata": {},
   "outputs": [],
   "source": [
    "N = 100\n",
    "P = 2"
   ]
  },
  {
   "cell_type": "code",
   "execution_count": 280,
   "metadata": {},
   "outputs": [],
   "source": [
    "xpos = np.random.normal(0, 1,(N,P))\n",
    "xneg = np.random.normal(1.5, 1,(N,P))"
   ]
  },
  {
   "cell_type": "code",
   "execution_count": 281,
   "metadata": {},
   "outputs": [],
   "source": [
    "x = np.concatenate((xpos, xneg), axis=0)\n",
    "y = np.concatenate((np.ones((N,)), -np.ones((N,))), axis=0)"
   ]
  },
  {
   "cell_type": "code",
   "execution_count": 282,
   "metadata": {},
   "outputs": [
    {
     "data": {
      "image/png": "[encoded data removed]",
      "text/plain": [
       "<Figure size 432x288 with 1 Axes>"
      ]
     },
     "metadata": {
      "needs_background": "light"
     },
     "output_type": "display_data"
    }
   ],
   "source": [
    "plot_data(x,y)"
   ]
  },
  {
   "cell_type": "code",
   "execution_count": null,
   "metadata": {},
   "outputs": [],
   "source": []
  },
  {
   "cell_type": "code",
   "execution_count": null,
   "metadata": {},
   "outputs": [],
   "source": []
  }
 ],
 "metadata": {
  "kernelspec": {
   "display_name": "Python 3",
   "language": "python",
   "name": "python3"
  },
  "language_info": {
   "codemirror_mode": {
    "name": "ipython",
    "version": 3
   },
   "file_extension": ".py",
   "mimetype": "text/x-python",
   "name": "python",
   "nbconvert_exporter": "python",
   "pygments_lexer": "ipython3",
   "version": "3.7.3"
  }
 },
 "nbformat": 4,
 "nbformat_minor": 4
}
