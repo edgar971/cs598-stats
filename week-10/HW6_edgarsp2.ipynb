{
 "cells": [
  {
   "cell_type": "markdown",
   "metadata": {},
   "source": [
    "# STAT 542 / CS 598: Homework 6\n",
    "Fall 2019, by Edgar Pino\n",
    "\n",
    "Due: Monday, Nov 11 by 11:59 PM Pacific Time"
   ]
  },
  {
   "cell_type": "code",
   "execution_count": 2,
   "metadata": {},
   "outputs": [],
   "source": [
    "%matplotlib inline"
   ]
  },
  {
   "cell_type": "code",
   "execution_count": 24,
   "metadata": {},
   "outputs": [],
   "source": [
    "import matplotlib.pyplot as plt\n",
    "import numpy as np\n",
    "import pandas as pd\n",
    "from scipy.optimize import minimize\n",
    "from cvxopt import matrix, solvers\n",
    "import math"
   ]
  },
  {
   "cell_type": "markdown",
   "metadata": {},
   "source": [
    "# Question 1 [50 Points] Linearly Separable SVM using Quadratic Programming"
   ]
  },
  {
   "cell_type": "code",
   "execution_count": 4,
   "metadata": {},
   "outputs": [],
   "source": [
    "np.random.seed(1)"
   ]
  },
  {
   "cell_type": "code",
   "execution_count": 5,
   "metadata": {},
   "outputs": [],
   "source": [
    "COLOR_LABELS = [\"darkorange\",\"deepskyblue\"]"
   ]
  },
  {
   "cell_type": "code",
   "execution_count": 6,
   "metadata": {},
   "outputs": [],
   "source": [
    "N = 40\n",
    "P = 2"
   ]
  },
  {
   "cell_type": "code",
   "execution_count": 7,
   "metadata": {},
   "outputs": [],
   "source": [
    "xpos = np.random.normal(0, 1,(N,P))\n",
    "xneg = np.random.normal(4, 1,(N,P))"
   ]
  },
  {
   "cell_type": "code",
   "execution_count": 8,
   "metadata": {},
   "outputs": [],
   "source": [
    "x = np.concatenate((xpos, xneg), axis=0)\n",
    "y = np.concatenate((np.ones((N,)), -np.ones((N,))), axis=0)"
   ]
  },
  {
   "cell_type": "code",
   "execution_count": 9,
   "metadata": {},
   "outputs": [],
   "source": [
    "def plot_data(x, y):\n",
    "    unique = np.unique(y)\n",
    "    for li in range(len(unique)):\n",
    "        items = x[y == unique[li]]\n",
    "        label = 'Positive' if unique[li] == -1 else 'Negative'\n",
    "        plt.scatter(items[:, 0], items[:, 1], c = COLOR_LABELS[li], label=label)\n",
    "    plt.legend()"
   ]
  },
  {
   "cell_type": "code",
   "execution_count": 10,
   "metadata": {},
   "outputs": [
    {
     "data": {
      "image/png": "[encoded data removed]",
      "text/plain": [
       "<Figure size 432x288 with 1 Axes>"
      ]
     },
     "metadata": {
      "needs_background": "light"
     },
     "output_type": "display_data"
    }
   ],
   "source": [
    "plot_data(x,y)"
   ]
  },
  {
   "cell_type": "markdown",
   "metadata": {},
   "source": [
    "### Fit"
   ]
  },
  {
   "cell_type": "code",
   "execution_count": 42,
   "metadata": {},
   "outputs": [],
   "source": [
    "def fit(x, y): \n",
    "    NUM = x.shape[0]\n",
    "    DIM = x.shape[1]\n",
    "    K = y[:, None] * x\n",
    "    K = np.dot(K, K.T)\n",
    "    P = matrix(K)\n",
    "    q = matrix(-np.ones((NUM, 1)))\n",
    "    G = matrix(-np.eye(NUM))\n",
    "    h = matrix(np.zeros(NUM))\n",
    "    A = matrix(y.reshape(1, -1))\n",
    "    b = matrix(np.zeros(1))\n",
    "    \n",
    "    return solvers.qp(P, q, G, h, A, b)"
   ]
  },
  {
   "cell_type": "code",
   "execution_count": 43,
   "metadata": {},
   "outputs": [],
   "source": [
    "def plot_separator(ax, w, b):\n",
    "    slope = -w[0] / w[1]\n",
    "    intercept = -b / w[1]\n",
    "    x = np.arange(0, 6)\n",
    "    ax.plot(x, x * slope + intercept, 'k-')\n",
    "    ax.plot(x, x * slope + intercept + 2.75, '-')\n",
    "    ax.plot(x, x * slope + intercept - 2.75, '-')"
   ]
  },
  {
   "cell_type": "code",
   "execution_count": 44,
   "metadata": {},
   "outputs": [],
   "source": [
    "def plot_data_with_labels(x, y, ax):\n",
    "    unique = np.unique(y)\n",
    "    for li in range(len(unique)):\n",
    "        x_sub = x[y == unique[li]]\n",
    "        label = 'Positive' if unique[li] == 1 else 'Negative'\n",
    "        ax.scatter(x_sub[:, 0], x_sub[:, 1], c = COLOR_LABELS[li], label=label)"
   ]
  },
  {
   "cell_type": "code",
   "execution_count": 45,
   "metadata": {},
   "outputs": [
    {
     "name": "stdout",
     "output_type": "stream",
     "text": [
      "     pcost       dcost       gap    pres   dres\n",
      " 0: -6.2205e+00 -1.0607e+01  2e+02  1e+01  2e+00\n",
      " 1: -5.1204e+00 -1.6071e+00  3e+01  2e+00  2e-01\n",
      " 2: -3.0840e-01 -5.4380e-01  5e-01  2e-02  2e-03\n",
      " 3: -3.7365e-01 -4.2487e-01  9e-02  3e-03  3e-04\n",
      " 4: -4.1115e-01 -4.1811e-01  9e-03  2e-04  2e-05\n",
      " 5: -4.1661e-01 -4.1693e-01  3e-04  2e-06  2e-07\n",
      " 6: -4.1685e-01 -4.1686e-01  6e-06  2e-08  2e-09\n",
      " 7: -4.1685e-01 -4.1685e-01  6e-08  2e-10  2e-11\n",
      "Optimal solution found.\n"
     ]
    }
   ],
   "source": [
    "sol = fit(x, y)\n",
    "alphas = np.array(sol['x'])"
   ]
  },
  {
   "cell_type": "code",
   "execution_count": 46,
   "metadata": {},
   "outputs": [
    {
     "data": {
      "image/png": "[encoded data removed]",
      "text/plain": [
       "<Figure size 432x288 with 1 Axes>"
      ]
     },
     "metadata": {
      "needs_background": "light"
     },
     "output_type": "display_data"
    }
   ],
   "source": [
    "w = np.sum(alphas * y[:, None] * x, axis = 0)\n",
    "cond = (alphas > 1e-4).reshape(-1)\n",
    "b = y[cond] - np.dot(x[cond], w)\n",
    "bias = b[0]\n",
    "\n",
    "norm = np.linalg.norm(w)\n",
    "w, bias = w / norm, bias / norm\n",
    "\n",
    "fig, ax = plt.subplots()\n",
    "plot_separator(ax, w, bias)\n",
    "plot_data_with_labels(x, y, ax)\n",
    "\n",
    "plt.legend()\n",
    "plt.show()"
   ]
  },
  {
   "cell_type": "markdown",
   "metadata": {},
   "source": [
    "# Question 2 [25 Points] Linearly Non-seperable SVM using Penalized Loss"
   ]
  },
  {
   "cell_type": "code",
   "execution_count": 51,
   "metadata": {},
   "outputs": [],
   "source": [
    "np.random.seed(1)"
   ]
  },
  {
   "cell_type": "code",
   "execution_count": 52,
   "metadata": {},
   "outputs": [],
   "source": [
    "N = 100\n",
    "P = 2"
   ]
  },
  {
   "cell_type": "code",
   "execution_count": 53,
   "metadata": {},
   "outputs": [],
   "source": [
    "xpos = np.random.normal(0, 1,(N,P))\n",
    "xneg = np.random.normal(1.5, 1,(N,P))"
   ]
  },
  {
   "cell_type": "code",
   "execution_count": 54,
   "metadata": {},
   "outputs": [],
   "source": [
    "x = np.concatenate((xpos, xneg), axis=0)\n",
    "y = np.concatenate((np.ones((N,)), -np.ones((N,))), axis=0)"
   ]
  },
  {
   "cell_type": "code",
   "execution_count": 55,
   "metadata": {},
   "outputs": [
    {
     "data": {
      "image/png": "[encoded data removed]",
      "text/plain": [
       "<Figure size 432x288 with 1 Axes>"
      ]
     },
     "metadata": {
      "needs_background": "light"
     },
     "output_type": "display_data"
    }
   ],
   "source": [
    "plot_data(x,y)"
   ]
  },
  {
   "cell_type": "code",
   "execution_count": 56,
   "metadata": {},
   "outputs": [],
   "source": [
    "def loss(b, x, y):\n",
    "    return np.sum(\n",
    "        np.log(\n",
    "            1+np.exp(\n",
    "                -y*\n",
    "                (b[0]+np.dot(x,np.array([b[1],b[2]])))\n",
    "            ))\n",
    "    )+0.5*(np.power(b[0],2)+np.power(b[1],2)+np.power(b[2],2))"
   ]
  },
  {
   "cell_type": "code",
   "execution_count": 57,
   "metadata": {},
   "outputs": [],
   "source": [
    "results = minimize(loss, (1,1,1), args=(x,y))"
   ]
  },
  {
   "cell_type": "code",
   "execution_count": 58,
   "metadata": {},
   "outputs": [],
   "source": [
    "intercept = -results['x'][0]/results['x'][2]"
   ]
  },
  {
   "cell_type": "code",
   "execution_count": 59,
   "metadata": {},
   "outputs": [],
   "source": [
    "slope = -results['x'][1]/results['x'][2]"
   ]
  },
  {
   "cell_type": "code",
   "execution_count": 60,
   "metadata": {},
   "outputs": [
    {
     "data": {
      "text/plain": [
       "1.3611124182617051"
      ]
     },
     "execution_count": 60,
     "metadata": {},
     "output_type": "execute_result"
    }
   ],
   "source": [
    "intercept"
   ]
  },
  {
   "cell_type": "code",
   "execution_count": 61,
   "metadata": {},
   "outputs": [
    {
     "data": {
      "text/plain": [
       "-0.812670650533452"
      ]
     },
     "execution_count": 61,
     "metadata": {},
     "output_type": "execute_result"
    }
   ],
   "source": [
    "slope"
   ]
  },
  {
   "cell_type": "code",
   "execution_count": 62,
   "metadata": {},
   "outputs": [
    {
     "data": {
      "image/png": "[encoded data removed]",
      "text/plain": [
       "<Figure size 432x288 with 1 Axes>"
      ]
     },
     "metadata": {
      "needs_background": "light"
     },
     "output_type": "display_data"
    }
   ],
   "source": [
    "fig, ax = plt.subplots()\n",
    "plot_data_with_labels(x, y, ax)\n",
    "\n",
    "axes = plt.gca()\n",
    "x_vals = np.array(axes.get_xlim())\n",
    "y_vals = intercept + slope * x_vals\n",
    "ax.plot(x_vals, y_vals, '--')\n",
    "\n",
    "plt.legend()\n",
    "plt.show()"
   ]
  },
  {
   "cell_type": "code",
   "execution_count": null,
   "metadata": {},
   "outputs": [],
   "source": []
  },
  {
   "cell_type": "markdown",
   "metadata": {},
   "source": [
    "# Question 3 [25 Points] Nonlinear and Non-seperable SVM using Penalized Loss"
   ]
  },
  {
   "cell_type": "code",
   "execution_count": 11,
   "metadata": {},
   "outputs": [],
   "source": [
    "from scipy.spatial.distance import pdist\n",
    "from rpy2.robjects.packages import STAP\n",
    "import rpy2.robjects.numpy2ri\n",
    "from rpy2.robjects.packages import importr\n",
    "rpy2.robjects.numpy2ri.activate()"
   ]
  },
  {
   "cell_type": "code",
   "execution_count": 12,
   "metadata": {},
   "outputs": [],
   "source": [
    "import os\n",
    "os.environ['KMP_DUPLICATE_LIB_OK']='True'"
   ]
  },
  {
   "cell_type": "code",
   "execution_count": 13,
   "metadata": {},
   "outputs": [],
   "source": [
    "mfunc = 'get_k <- function(x){return(as.matrix(dist(x)^2)/0.25)}'"
   ]
  },
  {
   "cell_type": "code",
   "execution_count": 14,
   "metadata": {},
   "outputs": [],
   "source": [
    "myasmatrix = STAP(mfunc, \"myasmatrix\")"
   ]
  },
  {
   "cell_type": "code",
   "execution_count": 15,
   "metadata": {},
   "outputs": [],
   "source": [
    "N = 400\n",
    "P = 2"
   ]
  },
  {
   "cell_type": "code",
   "execution_count": 16,
   "metadata": {},
   "outputs": [],
   "source": [
    "x = np.random.uniform(0,1,N*P).reshape(N,P)"
   ]
  },
  {
   "cell_type": "code",
   "execution_count": 17,
   "metadata": {},
   "outputs": [],
   "source": [
    "side = (x[:, 1] > 0.5 + 0.3*np.sin(3*math.pi*x[:, 0]))"
   ]
  },
  {
   "cell_type": "code",
   "execution_count": 18,
   "metadata": {},
   "outputs": [],
   "source": [
    "y = np.random.choice(np.array([1, -1]), N, True, np.array([0.9, 0.1]))*(side == 1) + np.random.choice(np.array([1, -1]), N, True, np.array([0.1, 0.9]))*(side == 0)"
   ]
  },
  {
   "cell_type": "code",
   "execution_count": 19,
   "metadata": {},
   "outputs": [
    {
     "data": {
      "image/png": "[encoded data removed]",
      "text/plain": [
       "<Figure size 432x288 with 1 Axes>"
      ]
     },
     "metadata": {
      "needs_background": "light"
     },
     "output_type": "display_data"
    }
   ],
   "source": [
    "plot_data(x,y)"
   ]
  },
  {
   "cell_type": "code",
   "execution_count": 20,
   "metadata": {},
   "outputs": [],
   "source": [
    "K = np.array(np.exp(-1 * np.array(myasmatrix.get_k(x))/.25))"
   ]
  },
  {
   "cell_type": "code",
   "execution_count": 76,
   "metadata": {},
   "outputs": [],
   "source": [
    "def my_k_loss(b, k, y):\n",
    "    return np.sum(\n",
    "        np.log(\n",
    "            1+np.exp(\n",
    "                -y*np.dot(k,b)\n",
    "            )\n",
    "        )\n",
    "    )+np.sum(0.05*b%k%b)"
   ]
  },
  {
   "cell_type": "code",
   "execution_count": 77,
   "metadata": {},
   "outputs": [
    {
     "name": "stderr",
     "output_type": "stream",
     "text": [
      "/anaconda3/lib/python3.7/site-packages/scipy/optimize/optimize.py:696: RuntimeWarning: invalid value encountered in double_scalars\n",
      "  grad[k] = (f(*((xk + d,) + args)) - f0) / d[k]\n"
     ]
    }
   ],
   "source": [
    "results = minimize(my_k_loss, np.ones(N), args=(K,y))"
   ]
  },
  {
   "cell_type": "code",
   "execution_count": 79,
   "metadata": {},
   "outputs": [
    {
     "data": {
      "text/plain": [
       "array([1.15558281, 0.70875382, 0.63669815, 0.79667738, 0.85216392,\n",
       "       0.83081225, 0.84137961, 0.72032158, 0.56282701, 0.73931824,\n",
       "       0.75969523, 0.8130382 , 0.83313547, 0.59302644, 0.65992754,\n",
       "       0.71233993, 0.83769635, 0.89331255, 0.85564678, 0.81355223,\n",
       "       0.73191985, 0.70762637, 0.81347523, 0.71927339, 0.59213222,\n",
       "       0.5980843 , 0.66520484, 0.63044827, 0.61124229, 0.76951721,\n",
       "       0.65332069, 0.79852725, 0.85798987, 0.5617628 , 0.81162721,\n",
       "       0.92121337, 0.78153629, 0.80277459, 0.65262116, 0.86834633,\n",
       "       1.29268991, 0.73676209, 0.8385555 , 0.6523749 , 0.66611628,\n",
       "       0.61270135, 0.58616137, 0.85472188, 0.64655303, 0.67138266,\n",
       "       0.56904923, 0.83162056, 0.74578153, 1.04213048, 0.67870159,\n",
       "       0.71208931, 0.75320888, 0.79521885, 0.67741315, 0.702786  ,\n",
       "       0.82368113, 0.62970758, 0.86374028, 1.31426082, 0.73519383,\n",
       "       0.67212268, 0.68532017, 0.74072777, 0.61720687, 0.57829385,\n",
       "       0.57903322, 0.86683974, 0.62605405, 0.66027202, 0.75668138,\n",
       "       0.73713743, 0.61690083, 0.75103914, 0.76783306, 0.70103815,\n",
       "       0.72543048, 0.57548963, 0.73471236, 0.75361103, 0.61849657,\n",
       "       0.57998583, 0.7098075 , 0.78479017, 0.69523624, 0.81972859,\n",
       "       0.78737078, 0.7097401 , 0.82264276, 0.78431503, 0.84866025,\n",
       "       0.62163203, 0.68221662, 0.72755932, 0.7174603 , 0.55423288,\n",
       "       0.59159912, 0.6732506 , 0.71563074, 0.77201604, 0.63158439,\n",
       "       0.80397743, 0.78864517, 0.68010466, 0.68678498, 0.95923493,\n",
       "       0.73145427, 0.61473248, 0.69319686, 1.00367414, 0.86587116,\n",
       "       0.84108271, 0.65884096, 0.70838442, 0.88463317, 0.74797158,\n",
       "       0.62803947, 0.62306683, 0.80346811, 0.63895012, 0.57535216,\n",
       "       0.69205292, 0.60684858, 0.62728362, 0.70737277, 0.76052302,\n",
       "       0.83758071, 0.72854795, 0.81911373, 0.7659454 , 0.75281677,\n",
       "       0.7052176 , 0.591633  , 0.8419964 , 0.61223551, 0.84516312,\n",
       "       0.83798488, 0.64583305, 0.67229606, 0.61708582, 0.61134366,\n",
       "       0.59889236, 0.55978286, 0.60244959, 0.69542959, 0.62263562,\n",
       "       0.60485228, 0.91828448, 0.74762679, 0.91525649, 0.69817277,\n",
       "       0.72874876, 0.64817876, 0.74117094, 0.8482199 , 0.67720632,\n",
       "       0.61065295, 0.71914779, 0.79012797, 0.68106251, 0.7464706 ,\n",
       "       0.56444432, 0.7002344 , 0.69974973, 0.58231344, 1.03435831,\n",
       "       0.76826121, 0.61184052, 0.73180064, 0.71466502, 0.73012118,\n",
       "       0.84571263, 0.69726276, 0.82928048, 0.68913852, 0.66352207,\n",
       "       0.69691054, 0.56616597, 0.68606745, 0.55263171, 0.57032293,\n",
       "       0.56436256, 0.77099601, 0.76684714, 0.56692635, 0.62518303,\n",
       "       0.65164109, 0.79756595, 0.79188739, 0.68164673, 0.83951596,\n",
       "       0.63531998, 1.38164649, 1.00833195, 0.59741445, 1.02566227,\n",
       "       0.63905352, 0.66237537, 0.77970275, 0.71625123, 0.5831348 ,\n",
       "       0.78241923, 0.68963192, 0.76361527, 0.66166683, 0.6678408 ,\n",
       "       0.60221027, 0.62529056, 0.84989791, 0.70825499, 0.62121803,\n",
       "       0.6778375 , 0.60274266, 0.63706882, 0.6302592 , 0.77579368,\n",
       "       0.66816127, 0.58551187, 0.79118251, 0.68926453, 0.76640152,\n",
       "       0.58063136, 0.74201191, 0.64600727, 0.79398604, 0.87102789,\n",
       "       0.82865709, 1.02617864, 0.61016202, 0.77718103, 0.79362984,\n",
       "       0.6629127 , 0.77235963, 1.00732243, 0.62556691, 0.66533524,\n",
       "       0.82553891, 0.59773219, 0.64262153, 0.58066187, 0.67688981,\n",
       "       0.58311446, 0.75271182, 0.66352882, 0.72797191, 0.61391032,\n",
       "       0.58066318, 0.6044286 , 0.8403504 , 0.78928003, 0.69166278,\n",
       "       0.70497485, 0.84682147, 0.60117856, 0.59181586, 0.63099777,\n",
       "       0.73530564, 0.71861209, 0.75451909, 0.84762548, 0.85408246,\n",
       "       0.60232258, 0.78899257, 0.62156683, 0.8504993 , 0.82861802,\n",
       "       0.77000007, 0.70310839, 0.8581083 , 0.650706  , 0.80353209,\n",
       "       0.64016251, 0.60203972, 0.71622995, 0.56526504, 0.58294112,\n",
       "       0.61718202, 0.61254866, 1.25422837, 0.86404301, 0.58467305,\n",
       "       0.81337095, 0.78832955, 0.64312544, 0.75742773, 0.792693  ,\n",
       "       0.69641678, 0.82828381, 0.64350653, 0.83562934, 1.03645137,\n",
       "       0.71343492, 0.56418926, 0.71840348, 1.03622128, 0.59126521,\n",
       "       0.62334829, 0.72626896, 0.55887496, 0.56340463, 0.6494971 ,\n",
       "       0.67155376, 0.75425709, 0.72849339, 0.65169169, 0.83289332,\n",
       "       0.66268288, 0.70133248, 0.64136686, 0.82111618, 0.57429242,\n",
       "       0.61380465, 0.60908131, 1.0635679 , 0.61026012, 0.85747152,\n",
       "       0.7389343 , 0.7183351 , 0.65547081, 0.74066176, 0.76170961,\n",
       "       0.95977351, 0.88675008, 0.69624981, 0.63561203, 0.75521627,\n",
       "       0.67694151, 0.70952742, 0.61321703, 0.5527789 , 0.59386461,\n",
       "       0.68221838, 0.57507834, 0.65527599, 0.68799676, 0.68823273,\n",
       "       0.62407918, 0.61417007, 0.83427998, 0.87084267, 0.61909416,\n",
       "       0.82397428, 0.68642943, 0.59516321, 1.01827947, 0.61402378,\n",
       "       0.77527317, 0.70787347, 0.67670279, 0.81235126, 0.67574544,\n",
       "       0.64521861, 1.15834287, 0.68565191, 0.76900722, 0.85161726,\n",
       "       0.7928776 , 0.80571602, 0.75714527, 0.80628551, 0.77621197,\n",
       "       0.61405679, 0.71511316, 0.75504391, 0.69739854, 0.7420113 ,\n",
       "       0.58722887, 0.70670828, 0.84812818, 0.84768146, 0.75321783,\n",
       "       0.63394483, 0.66841825, 0.83683028, 0.83299792, 0.61936038,\n",
       "       0.7051146 , 0.72780196, 0.68607752, 0.6072381 , 0.72526687,\n",
       "       0.64862732, 0.89223517, 0.56797903, 0.61622736, 0.87597471,\n",
       "       0.74231113, 0.78671239, 0.82948971, 0.76166175, 0.60628193,\n",
       "       0.72489097, 0.77564554, 0.58994977, 0.61509671, 0.7449496 ])"
      ]
     },
     "execution_count": 79,
     "metadata": {},
     "output_type": "execute_result"
    }
   ],
   "source": [
    "results['x']"
   ]
  },
  {
   "cell_type": "code",
   "execution_count": null,
   "metadata": {},
   "outputs": [],
   "source": []
  }
 ],
 "metadata": {
  "kernelspec": {
   "display_name": "Python 3",
   "language": "python",
   "name": "python3"
  },
  "language_info": {
   "codemirror_mode": {
    "name": "ipython",
    "version": 3
   },
   "file_extension": ".py",
   "mimetype": "text/x-python",
   "name": "python",
   "nbconvert_exporter": "python",
   "pygments_lexer": "ipython3",
   "version": "3.7.3"
  }
 },
 "nbformat": 4,
 "nbformat_minor": 4
}
