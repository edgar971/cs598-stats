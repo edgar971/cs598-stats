{
 "cells": [
  {
   "cell_type": "markdown",
   "metadata": {},
   "source": [
    "# STAT 542 / CS 598: Homework 1\n",
    "### Edgar Pino"
   ]
  },
  {
   "cell_type": "markdown",
   "metadata": {},
   "source": [
    "## Question 1a"
   ]
  },
  {
   "cell_type": "code",
   "execution_count": 98,
   "metadata": {},
   "outputs": [],
   "source": [
    "import operator\n",
    "import pandas as pd\n",
    "import numpy as np\n",
    "from scipy.stats import multivariate_normal\n",
    "from sklearn.model_selection import train_test_split\n",
    "from sklearn.linear_model import LinearRegression\n",
    "from sklearn.preprocessing import scale\n",
    "import matplotlib.pyplot as plt\n",
    "%matplotlib inline\n",
    "plt.style.use(['ggplot'])"
   ]
  },
  {
   "cell_type": "code",
   "execution_count": 54,
   "metadata": {},
   "outputs": [],
   "source": [
    "def get_distance(a, b):\n",
    "    a = np.array(a)\n",
    "    b = np.array(b)\n",
    "    return np.sqrt(np.sum(np.square(a - b)))"
   ]
  },
  {
   "cell_type": "code",
   "execution_count": 55,
   "metadata": {},
   "outputs": [],
   "source": [
    "def get_neighbors(trainingSet, instance, k):\n",
    "    distances = []\n",
    "\n",
    "    for x in range(len(trainingSet)):\n",
    "        distance = get_distance(instance, trainingSet[x][:-1])\n",
    "        distances.append((trainingSet[x], distance))\n",
    "\n",
    "    distances.sort(key=operator.itemgetter(1))\n",
    "    \n",
    "    neighbors = []\n",
    "    for x in range(k):\n",
    "        neighbors.append(distances[x][0]) \n",
    "    return np.array(neighbors)"
   ]
  },
  {
   "cell_type": "code",
   "execution_count": 56,
   "metadata": {},
   "outputs": [],
   "source": [
    "def get_label_average(neighbors):\n",
    "    return np.average(neighbors[:,-1])"
   ]
  },
  {
   "cell_type": "code",
   "execution_count": 411,
   "metadata": {},
   "outputs": [],
   "source": [
    "def mean_square_error(y_true, y_pred):\n",
    "    return np.square(np.subtract(y_true,y_pred)).mean()"
   ]
  },
  {
   "cell_type": "code",
   "execution_count": 412,
   "metadata": {},
   "outputs": [],
   "source": [
    "def myknn(xtest, xtrain, ytrain, k):\n",
    "    nn = []\n",
    "    training_data_xy = []\n",
    "    \n",
    "    for i in range(len(xtrain)):\n",
    "        training_data_xy.append(np.append(xtrain[i],[ytrain[i]]))\n",
    "        \n",
    "    for i in range(len(xtest)):\n",
    "        neighbors = get_neighbors(training_data_xy, xtest[i], k)\n",
    "        predicted_label = get_label_average(neighbors)\n",
    "        nn.append(predicted_label)\n",
    "        \n",
    "    return np.array(nn)"
   ]
  },
  {
   "cell_type": "markdown",
   "metadata": {},
   "source": [
    "## Question 1b\n",
    "https://peterroelants.github.io/posts/multivariate-normal-primer/"
   ]
  },
  {
   "cell_type": "code",
   "execution_count": 59,
   "metadata": {},
   "outputs": [],
   "source": [
    "np.random.seed(1)"
   ]
  },
  {
   "cell_type": "code",
   "execution_count": 60,
   "metadata": {},
   "outputs": [],
   "source": [
    "mean = [1,2,3,4,5]\n",
    "cov = np.zeros((5,5))"
   ]
  },
  {
   "cell_type": "code",
   "execution_count": 61,
   "metadata": {},
   "outputs": [],
   "source": [
    "for i in range(1,6):\n",
    "    for j in range(1,6):\n",
    "        cov[i-1][j-1] = pow(.5,(abs(i-j)))"
   ]
  },
  {
   "cell_type": "code",
   "execution_count": 62,
   "metadata": {},
   "outputs": [
    {
     "data": {
      "text/plain": [
       "array([[1.    , 0.5   , 0.25  , 0.125 , 0.0625],\n",
       "       [0.5   , 1.    , 0.5   , 0.25  , 0.125 ],\n",
       "       [0.25  , 0.5   , 1.    , 0.5   , 0.25  ],\n",
       "       [0.125 , 0.25  , 0.5   , 1.    , 0.5   ],\n",
       "       [0.0625, 0.125 , 0.25  , 0.5   , 1.    ]])"
      ]
     },
     "execution_count": 62,
     "metadata": {},
     "output_type": "execute_result"
    }
   ],
   "source": [
    "cov"
   ]
  },
  {
   "cell_type": "code",
   "execution_count": 63,
   "metadata": {},
   "outputs": [],
   "source": [
    "x = np.random.multivariate_normal(mean, cov, 1000)"
   ]
  },
  {
   "cell_type": "code",
   "execution_count": 64,
   "metadata": {},
   "outputs": [
    {
     "data": {
      "text/plain": [
       "array([[-0.20645625,  0.62507688,  1.7750502 ,  2.40691521,  5.18134863],\n",
       "       [ 3.7402364 ,  4.40503372,  4.35016723,  4.96114578,  5.39520319],\n",
       "       [-0.86926549, -0.28132208,  2.10283711,  3.41796534,  5.90390064],\n",
       "       ...,\n",
       "       [ 0.75489172,  0.21293702,  2.17933804,  3.19109298,  4.4956944 ],\n",
       "       [ 1.46270615,  1.56523677,  4.08432493,  5.01140189,  4.45909355],\n",
       "       [ 1.47725666, -0.04487942,  2.17328603,  2.22584583,  4.13825209]])"
      ]
     },
     "execution_count": 64,
     "metadata": {},
     "output_type": "execute_result"
    }
   ],
   "source": [
    "x"
   ]
  },
  {
   "cell_type": "code",
   "execution_count": 65,
   "metadata": {},
   "outputs": [],
   "source": [
    "e = np.random.randn(1000)"
   ]
  },
  {
   "cell_type": "code",
   "execution_count": 66,
   "metadata": {},
   "outputs": [],
   "source": [
    "y = x[:,0] + x[:,1] + np.square((x[:,2] - 2.5)) + e"
   ]
  },
  {
   "cell_type": "code",
   "execution_count": 67,
   "metadata": {},
   "outputs": [
    {
     "data": {
      "text/plain": [
       "array([[-0.20645625,  0.62507688,  1.7750502 ,  2.40691521,  5.18134863],\n",
       "       [ 3.7402364 ,  4.40503372,  4.35016723,  4.96114578,  5.39520319],\n",
       "       [-0.86926549, -0.28132208,  2.10283711,  3.41796534,  5.90390064]])"
      ]
     },
     "execution_count": 67,
     "metadata": {},
     "output_type": "execute_result"
    }
   ],
   "source": [
    "x[:3]"
   ]
  },
  {
   "cell_type": "code",
   "execution_count": 68,
   "metadata": {},
   "outputs": [
    {
     "data": {
      "text/plain": [
       "array([ 0.01941756, 12.6972788 , -2.12164048])"
      ]
     },
     "execution_count": 68,
     "metadata": {},
     "output_type": "execute_result"
    }
   ],
   "source": [
    "y[:3]"
   ]
  },
  {
   "cell_type": "markdown",
   "metadata": {},
   "source": [
    "## Question 1c"
   ]
  },
  {
   "cell_type": "code",
   "execution_count": 69,
   "metadata": {},
   "outputs": [],
   "source": [
    "X_train, X_test, y_train, y_test = x[:400], x[400:], y[:400], y[400:]"
   ]
  },
  {
   "cell_type": "code",
   "execution_count": 75,
   "metadata": {},
   "outputs": [],
   "source": [
    "y_pred = myknn(X_test, X_train, y_train, 5)"
   ]
  },
  {
   "cell_type": "code",
   "execution_count": 76,
   "metadata": {},
   "outputs": [
    {
     "data": {
      "text/plain": [
       "1.5558223877014192"
      ]
     },
     "execution_count": 76,
     "metadata": {},
     "output_type": "execute_result"
    }
   ],
   "source": [
    "mean_square_error(y_test, y_pred)"
   ]
  },
  {
   "cell_type": "markdown",
   "metadata": {},
   "source": [
    "## Question 1d"
   ]
  },
  {
   "cell_type": "code",
   "execution_count": 80,
   "metadata": {},
   "outputs": [],
   "source": [
    "reg = LinearRegression().fit(X_train, y_train)"
   ]
  },
  {
   "cell_type": "code",
   "execution_count": 81,
   "metadata": {},
   "outputs": [],
   "source": [
    "lm_y_pred = reg.predict(X_test)"
   ]
  },
  {
   "cell_type": "code",
   "execution_count": 82,
   "metadata": {},
   "outputs": [],
   "source": [
    "lm_mse = mean_square_error(y_test, lm_y_pred)"
   ]
  },
  {
   "cell_type": "code",
   "execution_count": 83,
   "metadata": {},
   "outputs": [
    {
     "data": {
      "text/plain": [
       "2.424736481615183"
      ]
     },
     "execution_count": 83,
     "metadata": {},
     "output_type": "execute_result"
    }
   ],
   "source": [
    "lm_mse"
   ]
  },
  {
   "cell_type": "code",
   "execution_count": 84,
   "metadata": {},
   "outputs": [],
   "source": [
    "k_vals = np.arange(1,101)"
   ]
  },
  {
   "cell_type": "code",
   "execution_count": 85,
   "metadata": {},
   "outputs": [],
   "source": [
    "knn_errors = np.zeros(100)"
   ]
  },
  {
   "cell_type": "code",
   "execution_count": 86,
   "metadata": {},
   "outputs": [],
   "source": [
    "for i in range(len(k_vals)):\n",
    "    y_pred = myknn(X_test, X_train, y_train, k_vals[i])\n",
    "    knn_errors[i] = mean_square_error(y_test, y_pred)"
   ]
  },
  {
   "cell_type": "code",
   "execution_count": 117,
   "metadata": {},
   "outputs": [
    {
     "data": {
      "image/png": "[encoded data removed]",
      "text/plain": [
       "<Figure size 432x288 with 1 Axes>"
      ]
     },
     "metadata": {},
     "output_type": "display_data"
    }
   ],
   "source": [
    "plt.plot(knn_errors,'-o', color='blue')\n",
    "plt.axhline(y=lm_mse, color='r')\n",
    "plt.show()"
   ]
  },
  {
   "cell_type": "code",
   "execution_count": 102,
   "metadata": {},
   "outputs": [],
   "source": [
    "plt.show()"
   ]
  },
  {
   "cell_type": "markdown",
   "metadata": {},
   "source": [
    "## Question 2a"
   ]
  },
  {
   "cell_type": "code",
   "execution_count": 394,
   "metadata": {},
   "outputs": [],
   "source": [
    "def gradient_descent(x, y, b, delta, epsilon, maxitr):\n",
    "    iterations = 1\n",
    "    cost_history = []\n",
    "    m = len(y)\n",
    "\n",
    "    while True:\n",
    "        h = x.dot(b)\n",
    "        loss = h - y\n",
    "\n",
    "        gradient = x.T.dot(loss) / m\n",
    "\n",
    "        b_new = b - delta * gradient\n",
    "\n",
    "        cost = np.sum(abs(b_new - b))\n",
    "        cost_history.append(cost)\n",
    "        \n",
    "        b = b_new\n",
    "        \n",
    "        if cost < epsilon:\n",
    "            break\n",
    "            \n",
    "        if iterations == maxitr:\n",
    "            break\n",
    "        \n",
    "        iterations +=1\n",
    "\n",
    "    return b, cost_history"
   ]
  },
  {
   "cell_type": "code",
   "execution_count": 395,
   "metadata": {},
   "outputs": [],
   "source": [
    "def mylm_g(x, y, delta, epsilon, maxitr):\n",
    "    beta = np.zeros(x.shape[1])\n",
    "    \n",
    "    newB, _ = gradient_descent(x, y, beta, delta, epsilon, maxitr)\n",
    "    return newB"
   ]
  },
  {
   "cell_type": "code",
   "execution_count": null,
   "metadata": {},
   "outputs": [],
   "source": []
  },
  {
   "cell_type": "markdown",
   "metadata": {},
   "source": [
    "## Question 2b"
   ]
  },
  {
   "cell_type": "code",
   "execution_count": 396,
   "metadata": {},
   "outputs": [],
   "source": [
    "x = pd.read_csv('./boston-data.csv')"
   ]
  },
  {
   "cell_type": "code",
   "execution_count": 397,
   "metadata": {},
   "outputs": [],
   "source": [
    "x = x.drop([x.columns[0],'medv', 'town', 'tract'],axis=1)"
   ]
  },
  {
   "cell_type": "code",
   "execution_count": 398,
   "metadata": {},
   "outputs": [
    {
     "data": {
      "text/plain": [
       "(506, 16)"
      ]
     },
     "execution_count": 398,
     "metadata": {},
     "output_type": "execute_result"
    }
   ],
   "source": [
    "x.shape"
   ]
  },
  {
   "cell_type": "code",
   "execution_count": 399,
   "metadata": {},
   "outputs": [
    {
     "data": {
      "text/html": [
       "<div>\n",
       "<style scoped>\n",
       "    .dataframe tbody tr th:only-of-type {\n",
       "        vertical-align: middle;\n",
       "    }\n",
       "\n",
       "    .dataframe tbody tr th {\n",
       "        vertical-align: top;\n",
       "    }\n",
       "\n",
       "    .dataframe thead th {\n",
       "        text-align: right;\n",
       "    }\n",
       "</style>\n",
       "<table border=\"1\" class=\"dataframe\">\n",
       "  <thead>\n",
       "    <tr style=\"text-align: right;\">\n",
       "      <th></th>\n",
       "      <th>lon</th>\n",
       "      <th>lat</th>\n",
       "      <th>cmedv</th>\n",
       "      <th>crim</th>\n",
       "      <th>zn</th>\n",
       "      <th>indus</th>\n",
       "      <th>chas</th>\n",
       "      <th>nox</th>\n",
       "      <th>rm</th>\n",
       "      <th>age</th>\n",
       "      <th>dis</th>\n",
       "      <th>rad</th>\n",
       "      <th>tax</th>\n",
       "      <th>ptratio</th>\n",
       "      <th>b</th>\n",
       "      <th>lstat</th>\n",
       "    </tr>\n",
       "  </thead>\n",
       "  <tbody>\n",
       "    <tr>\n",
       "      <th>0</th>\n",
       "      <td>-70.9550</td>\n",
       "      <td>42.2550</td>\n",
       "      <td>24.0</td>\n",
       "      <td>0.00632</td>\n",
       "      <td>18.0</td>\n",
       "      <td>2.31</td>\n",
       "      <td>0</td>\n",
       "      <td>0.538</td>\n",
       "      <td>6.575</td>\n",
       "      <td>65.2</td>\n",
       "      <td>4.0900</td>\n",
       "      <td>1</td>\n",
       "      <td>296</td>\n",
       "      <td>15.3</td>\n",
       "      <td>396.90</td>\n",
       "      <td>4.98</td>\n",
       "    </tr>\n",
       "    <tr>\n",
       "      <th>1</th>\n",
       "      <td>-70.9500</td>\n",
       "      <td>42.2875</td>\n",
       "      <td>21.6</td>\n",
       "      <td>0.02731</td>\n",
       "      <td>0.0</td>\n",
       "      <td>7.07</td>\n",
       "      <td>0</td>\n",
       "      <td>0.469</td>\n",
       "      <td>6.421</td>\n",
       "      <td>78.9</td>\n",
       "      <td>4.9671</td>\n",
       "      <td>2</td>\n",
       "      <td>242</td>\n",
       "      <td>17.8</td>\n",
       "      <td>396.90</td>\n",
       "      <td>9.14</td>\n",
       "    </tr>\n",
       "    <tr>\n",
       "      <th>2</th>\n",
       "      <td>-70.9360</td>\n",
       "      <td>42.2830</td>\n",
       "      <td>34.7</td>\n",
       "      <td>0.02729</td>\n",
       "      <td>0.0</td>\n",
       "      <td>7.07</td>\n",
       "      <td>0</td>\n",
       "      <td>0.469</td>\n",
       "      <td>7.185</td>\n",
       "      <td>61.1</td>\n",
       "      <td>4.9671</td>\n",
       "      <td>2</td>\n",
       "      <td>242</td>\n",
       "      <td>17.8</td>\n",
       "      <td>392.83</td>\n",
       "      <td>4.03</td>\n",
       "    </tr>\n",
       "    <tr>\n",
       "      <th>3</th>\n",
       "      <td>-70.9280</td>\n",
       "      <td>42.2930</td>\n",
       "      <td>33.4</td>\n",
       "      <td>0.03237</td>\n",
       "      <td>0.0</td>\n",
       "      <td>2.18</td>\n",
       "      <td>0</td>\n",
       "      <td>0.458</td>\n",
       "      <td>6.998</td>\n",
       "      <td>45.8</td>\n",
       "      <td>6.0622</td>\n",
       "      <td>3</td>\n",
       "      <td>222</td>\n",
       "      <td>18.7</td>\n",
       "      <td>394.63</td>\n",
       "      <td>2.94</td>\n",
       "    </tr>\n",
       "    <tr>\n",
       "      <th>4</th>\n",
       "      <td>-70.9220</td>\n",
       "      <td>42.2980</td>\n",
       "      <td>36.2</td>\n",
       "      <td>0.06905</td>\n",
       "      <td>0.0</td>\n",
       "      <td>2.18</td>\n",
       "      <td>0</td>\n",
       "      <td>0.458</td>\n",
       "      <td>7.147</td>\n",
       "      <td>54.2</td>\n",
       "      <td>6.0622</td>\n",
       "      <td>3</td>\n",
       "      <td>222</td>\n",
       "      <td>18.7</td>\n",
       "      <td>396.90</td>\n",
       "      <td>5.33</td>\n",
       "    </tr>\n",
       "    <tr>\n",
       "      <th>5</th>\n",
       "      <td>-70.9165</td>\n",
       "      <td>42.3040</td>\n",
       "      <td>28.7</td>\n",
       "      <td>0.02985</td>\n",
       "      <td>0.0</td>\n",
       "      <td>2.18</td>\n",
       "      <td>0</td>\n",
       "      <td>0.458</td>\n",
       "      <td>6.430</td>\n",
       "      <td>58.7</td>\n",
       "      <td>6.0622</td>\n",
       "      <td>3</td>\n",
       "      <td>222</td>\n",
       "      <td>18.7</td>\n",
       "      <td>394.12</td>\n",
       "      <td>5.21</td>\n",
       "    </tr>\n",
       "    <tr>\n",
       "      <th>6</th>\n",
       "      <td>-70.9360</td>\n",
       "      <td>42.2970</td>\n",
       "      <td>22.9</td>\n",
       "      <td>0.08829</td>\n",
       "      <td>12.5</td>\n",
       "      <td>7.87</td>\n",
       "      <td>0</td>\n",
       "      <td>0.524</td>\n",
       "      <td>6.012</td>\n",
       "      <td>66.6</td>\n",
       "      <td>5.5605</td>\n",
       "      <td>5</td>\n",
       "      <td>311</td>\n",
       "      <td>15.2</td>\n",
       "      <td>395.60</td>\n",
       "      <td>12.43</td>\n",
       "    </tr>\n",
       "    <tr>\n",
       "      <th>7</th>\n",
       "      <td>-70.9375</td>\n",
       "      <td>42.3100</td>\n",
       "      <td>22.1</td>\n",
       "      <td>0.14455</td>\n",
       "      <td>12.5</td>\n",
       "      <td>7.87</td>\n",
       "      <td>0</td>\n",
       "      <td>0.524</td>\n",
       "      <td>6.172</td>\n",
       "      <td>96.1</td>\n",
       "      <td>5.9505</td>\n",
       "      <td>5</td>\n",
       "      <td>311</td>\n",
       "      <td>15.2</td>\n",
       "      <td>396.90</td>\n",
       "      <td>19.15</td>\n",
       "    </tr>\n",
       "    <tr>\n",
       "      <th>8</th>\n",
       "      <td>-70.9330</td>\n",
       "      <td>42.3120</td>\n",
       "      <td>16.5</td>\n",
       "      <td>0.21124</td>\n",
       "      <td>12.5</td>\n",
       "      <td>7.87</td>\n",
       "      <td>0</td>\n",
       "      <td>0.524</td>\n",
       "      <td>5.631</td>\n",
       "      <td>100.0</td>\n",
       "      <td>6.0821</td>\n",
       "      <td>5</td>\n",
       "      <td>311</td>\n",
       "      <td>15.2</td>\n",
       "      <td>386.63</td>\n",
       "      <td>29.93</td>\n",
       "    </tr>\n",
       "    <tr>\n",
       "      <th>9</th>\n",
       "      <td>-70.9290</td>\n",
       "      <td>42.3160</td>\n",
       "      <td>18.9</td>\n",
       "      <td>0.17004</td>\n",
       "      <td>12.5</td>\n",
       "      <td>7.87</td>\n",
       "      <td>0</td>\n",
       "      <td>0.524</td>\n",
       "      <td>6.004</td>\n",
       "      <td>85.9</td>\n",
       "      <td>6.5921</td>\n",
       "      <td>5</td>\n",
       "      <td>311</td>\n",
       "      <td>15.2</td>\n",
       "      <td>386.71</td>\n",
       "      <td>17.10</td>\n",
       "    </tr>\n",
       "  </tbody>\n",
       "</table>\n",
       "</div>"
      ],
      "text/plain": [
       "       lon      lat  cmedv     crim    zn  indus  chas    nox     rm    age  \\\n",
       "0 -70.9550  42.2550   24.0  0.00632  18.0   2.31     0  0.538  6.575   65.2   \n",
       "1 -70.9500  42.2875   21.6  0.02731   0.0   7.07     0  0.469  6.421   78.9   \n",
       "2 -70.9360  42.2830   34.7  0.02729   0.0   7.07     0  0.469  7.185   61.1   \n",
       "3 -70.9280  42.2930   33.4  0.03237   0.0   2.18     0  0.458  6.998   45.8   \n",
       "4 -70.9220  42.2980   36.2  0.06905   0.0   2.18     0  0.458  7.147   54.2   \n",
       "5 -70.9165  42.3040   28.7  0.02985   0.0   2.18     0  0.458  6.430   58.7   \n",
       "6 -70.9360  42.2970   22.9  0.08829  12.5   7.87     0  0.524  6.012   66.6   \n",
       "7 -70.9375  42.3100   22.1  0.14455  12.5   7.87     0  0.524  6.172   96.1   \n",
       "8 -70.9330  42.3120   16.5  0.21124  12.5   7.87     0  0.524  5.631  100.0   \n",
       "9 -70.9290  42.3160   18.9  0.17004  12.5   7.87     0  0.524  6.004   85.9   \n",
       "\n",
       "      dis  rad  tax  ptratio       b  lstat  \n",
       "0  4.0900    1  296     15.3  396.90   4.98  \n",
       "1  4.9671    2  242     17.8  396.90   9.14  \n",
       "2  4.9671    2  242     17.8  392.83   4.03  \n",
       "3  6.0622    3  222     18.7  394.63   2.94  \n",
       "4  6.0622    3  222     18.7  396.90   5.33  \n",
       "5  6.0622    3  222     18.7  394.12   5.21  \n",
       "6  5.5605    5  311     15.2  395.60  12.43  \n",
       "7  5.9505    5  311     15.2  396.90  19.15  \n",
       "8  6.0821    5  311     15.2  386.63  29.93  \n",
       "9  6.5921    5  311     15.2  386.71  17.10  "
      ]
     },
     "execution_count": 399,
     "metadata": {},
     "output_type": "execute_result"
    }
   ],
   "source": [
    "x[:10]"
   ]
  },
  {
   "cell_type": "code",
   "execution_count": 400,
   "metadata": {},
   "outputs": [
    {
     "name": "stderr",
     "output_type": "stream",
     "text": [
      "/anaconda3/lib/python3.7/site-packages/ipykernel_launcher.py:1: DataConversionWarning: Data with input dtype int64, float64 were all converted to float64 by the scale function.\n",
      "  \"\"\"Entry point for launching an IPython kernel.\n"
     ]
    }
   ],
   "source": [
    "x = pd.DataFrame(scale(x), index=x.index, columns=x.columns)"
   ]
  },
  {
   "cell_type": "code",
   "execution_count": 401,
   "metadata": {},
   "outputs": [
    {
     "data": {
      "text/html": [
       "<div>\n",
       "<style scoped>\n",
       "    .dataframe tbody tr th:only-of-type {\n",
       "        vertical-align: middle;\n",
       "    }\n",
       "\n",
       "    .dataframe tbody tr th {\n",
       "        vertical-align: top;\n",
       "    }\n",
       "\n",
       "    .dataframe thead th {\n",
       "        text-align: right;\n",
       "    }\n",
       "</style>\n",
       "<table border=\"1\" class=\"dataframe\">\n",
       "  <thead>\n",
       "    <tr style=\"text-align: right;\">\n",
       "      <th></th>\n",
       "      <th>lon</th>\n",
       "      <th>lat</th>\n",
       "      <th>cmedv</th>\n",
       "      <th>crim</th>\n",
       "      <th>zn</th>\n",
       "      <th>indus</th>\n",
       "      <th>chas</th>\n",
       "      <th>nox</th>\n",
       "      <th>rm</th>\n",
       "      <th>age</th>\n",
       "      <th>dis</th>\n",
       "      <th>rad</th>\n",
       "      <th>tax</th>\n",
       "      <th>ptratio</th>\n",
       "      <th>b</th>\n",
       "      <th>lstat</th>\n",
       "    </tr>\n",
       "  </thead>\n",
       "  <tbody>\n",
       "    <tr>\n",
       "      <th>0</th>\n",
       "      <td>1.345913</td>\n",
       "      <td>0.624791</td>\n",
       "      <td>0.160376</td>\n",
       "      <td>-0.419782</td>\n",
       "      <td>0.284830</td>\n",
       "      <td>-1.287909</td>\n",
       "      <td>-0.272599</td>\n",
       "      <td>-0.144217</td>\n",
       "      <td>0.413672</td>\n",
       "      <td>-0.120013</td>\n",
       "      <td>0.140214</td>\n",
       "      <td>-0.982843</td>\n",
       "      <td>-0.666608</td>\n",
       "      <td>-1.459000</td>\n",
       "      <td>0.441052</td>\n",
       "      <td>-1.075562</td>\n",
       "    </tr>\n",
       "    <tr>\n",
       "      <th>1</th>\n",
       "      <td>1.412287</td>\n",
       "      <td>1.151396</td>\n",
       "      <td>-0.101258</td>\n",
       "      <td>-0.417339</td>\n",
       "      <td>-0.487722</td>\n",
       "      <td>-0.593381</td>\n",
       "      <td>-0.272599</td>\n",
       "      <td>-0.740262</td>\n",
       "      <td>0.194274</td>\n",
       "      <td>0.367166</td>\n",
       "      <td>0.557160</td>\n",
       "      <td>-0.867883</td>\n",
       "      <td>-0.987329</td>\n",
       "      <td>-0.303094</td>\n",
       "      <td>0.441052</td>\n",
       "      <td>-0.492439</td>\n",
       "    </tr>\n",
       "    <tr>\n",
       "      <th>2</th>\n",
       "      <td>1.598134</td>\n",
       "      <td>1.078482</td>\n",
       "      <td>1.326830</td>\n",
       "      <td>-0.417342</td>\n",
       "      <td>-0.487722</td>\n",
       "      <td>-0.593381</td>\n",
       "      <td>-0.272599</td>\n",
       "      <td>-0.740262</td>\n",
       "      <td>1.282714</td>\n",
       "      <td>-0.265812</td>\n",
       "      <td>0.557160</td>\n",
       "      <td>-0.867883</td>\n",
       "      <td>-0.987329</td>\n",
       "      <td>-0.303094</td>\n",
       "      <td>0.396427</td>\n",
       "      <td>-1.208727</td>\n",
       "    </tr>\n",
       "    <tr>\n",
       "      <th>3</th>\n",
       "      <td>1.704333</td>\n",
       "      <td>1.240514</td>\n",
       "      <td>1.185112</td>\n",
       "      <td>-0.416750</td>\n",
       "      <td>-0.487722</td>\n",
       "      <td>-1.306878</td>\n",
       "      <td>-0.272599</td>\n",
       "      <td>-0.835284</td>\n",
       "      <td>1.016303</td>\n",
       "      <td>-0.809889</td>\n",
       "      <td>1.077737</td>\n",
       "      <td>-0.752922</td>\n",
       "      <td>-1.106115</td>\n",
       "      <td>0.113032</td>\n",
       "      <td>0.416163</td>\n",
       "      <td>-1.361517</td>\n",
       "    </tr>\n",
       "    <tr>\n",
       "      <th>4</th>\n",
       "      <td>1.783981</td>\n",
       "      <td>1.321530</td>\n",
       "      <td>1.490352</td>\n",
       "      <td>-0.412482</td>\n",
       "      <td>-0.487722</td>\n",
       "      <td>-1.306878</td>\n",
       "      <td>-0.272599</td>\n",
       "      <td>-0.835284</td>\n",
       "      <td>1.228577</td>\n",
       "      <td>-0.511180</td>\n",
       "      <td>1.077737</td>\n",
       "      <td>-0.752922</td>\n",
       "      <td>-1.106115</td>\n",
       "      <td>0.113032</td>\n",
       "      <td>0.441052</td>\n",
       "      <td>-1.026501</td>\n",
       "    </tr>\n",
       "    <tr>\n",
       "      <th>5</th>\n",
       "      <td>1.856993</td>\n",
       "      <td>1.418749</td>\n",
       "      <td>0.672744</td>\n",
       "      <td>-0.417044</td>\n",
       "      <td>-0.487722</td>\n",
       "      <td>-1.306878</td>\n",
       "      <td>-0.272599</td>\n",
       "      <td>-0.835284</td>\n",
       "      <td>0.207096</td>\n",
       "      <td>-0.351157</td>\n",
       "      <td>1.077737</td>\n",
       "      <td>-0.752922</td>\n",
       "      <td>-1.106115</td>\n",
       "      <td>0.113032</td>\n",
       "      <td>0.410571</td>\n",
       "      <td>-1.043322</td>\n",
       "    </tr>\n",
       "    <tr>\n",
       "      <th>6</th>\n",
       "      <td>1.598134</td>\n",
       "      <td>1.305327</td>\n",
       "      <td>0.040460</td>\n",
       "      <td>-0.410243</td>\n",
       "      <td>0.048772</td>\n",
       "      <td>-0.476654</td>\n",
       "      <td>-0.272599</td>\n",
       "      <td>-0.265154</td>\n",
       "      <td>-0.388411</td>\n",
       "      <td>-0.070229</td>\n",
       "      <td>0.839244</td>\n",
       "      <td>-0.523001</td>\n",
       "      <td>-0.577519</td>\n",
       "      <td>-1.505237</td>\n",
       "      <td>0.426798</td>\n",
       "      <td>-0.031268</td>\n",
       "    </tr>\n",
       "    <tr>\n",
       "      <th>7</th>\n",
       "      <td>1.578222</td>\n",
       "      <td>1.515969</td>\n",
       "      <td>-0.046751</td>\n",
       "      <td>-0.403696</td>\n",
       "      <td>0.048772</td>\n",
       "      <td>-0.476654</td>\n",
       "      <td>-0.272599</td>\n",
       "      <td>-0.265154</td>\n",
       "      <td>-0.160466</td>\n",
       "      <td>0.978808</td>\n",
       "      <td>1.024638</td>\n",
       "      <td>-0.523001</td>\n",
       "      <td>-0.577519</td>\n",
       "      <td>-1.505237</td>\n",
       "      <td>0.441052</td>\n",
       "      <td>0.910700</td>\n",
       "    </tr>\n",
       "    <tr>\n",
       "      <th>8</th>\n",
       "      <td>1.637959</td>\n",
       "      <td>1.548375</td>\n",
       "      <td>-0.657232</td>\n",
       "      <td>-0.395935</td>\n",
       "      <td>0.048772</td>\n",
       "      <td>-0.476654</td>\n",
       "      <td>-0.272599</td>\n",
       "      <td>-0.265154</td>\n",
       "      <td>-0.931206</td>\n",
       "      <td>1.117494</td>\n",
       "      <td>1.087196</td>\n",
       "      <td>-0.523001</td>\n",
       "      <td>-0.577519</td>\n",
       "      <td>-1.505237</td>\n",
       "      <td>0.328448</td>\n",
       "      <td>2.421774</td>\n",
       "    </tr>\n",
       "    <tr>\n",
       "      <th>9</th>\n",
       "      <td>1.691058</td>\n",
       "      <td>1.613188</td>\n",
       "      <td>-0.395597</td>\n",
       "      <td>-0.400729</td>\n",
       "      <td>0.048772</td>\n",
       "      <td>-0.476654</td>\n",
       "      <td>-0.272599</td>\n",
       "      <td>-0.265154</td>\n",
       "      <td>-0.399808</td>\n",
       "      <td>0.616090</td>\n",
       "      <td>1.329635</td>\n",
       "      <td>-0.523001</td>\n",
       "      <td>-0.577519</td>\n",
       "      <td>-1.505237</td>\n",
       "      <td>0.329325</td>\n",
       "      <td>0.623344</td>\n",
       "    </tr>\n",
       "  </tbody>\n",
       "</table>\n",
       "</div>"
      ],
      "text/plain": [
       "        lon       lat     cmedv      crim        zn     indus      chas  \\\n",
       "0  1.345913  0.624791  0.160376 -0.419782  0.284830 -1.287909 -0.272599   \n",
       "1  1.412287  1.151396 -0.101258 -0.417339 -0.487722 -0.593381 -0.272599   \n",
       "2  1.598134  1.078482  1.326830 -0.417342 -0.487722 -0.593381 -0.272599   \n",
       "3  1.704333  1.240514  1.185112 -0.416750 -0.487722 -1.306878 -0.272599   \n",
       "4  1.783981  1.321530  1.490352 -0.412482 -0.487722 -1.306878 -0.272599   \n",
       "5  1.856993  1.418749  0.672744 -0.417044 -0.487722 -1.306878 -0.272599   \n",
       "6  1.598134  1.305327  0.040460 -0.410243  0.048772 -0.476654 -0.272599   \n",
       "7  1.578222  1.515969 -0.046751 -0.403696  0.048772 -0.476654 -0.272599   \n",
       "8  1.637959  1.548375 -0.657232 -0.395935  0.048772 -0.476654 -0.272599   \n",
       "9  1.691058  1.613188 -0.395597 -0.400729  0.048772 -0.476654 -0.272599   \n",
       "\n",
       "        nox        rm       age       dis       rad       tax   ptratio  \\\n",
       "0 -0.144217  0.413672 -0.120013  0.140214 -0.982843 -0.666608 -1.459000   \n",
       "1 -0.740262  0.194274  0.367166  0.557160 -0.867883 -0.987329 -0.303094   \n",
       "2 -0.740262  1.282714 -0.265812  0.557160 -0.867883 -0.987329 -0.303094   \n",
       "3 -0.835284  1.016303 -0.809889  1.077737 -0.752922 -1.106115  0.113032   \n",
       "4 -0.835284  1.228577 -0.511180  1.077737 -0.752922 -1.106115  0.113032   \n",
       "5 -0.835284  0.207096 -0.351157  1.077737 -0.752922 -1.106115  0.113032   \n",
       "6 -0.265154 -0.388411 -0.070229  0.839244 -0.523001 -0.577519 -1.505237   \n",
       "7 -0.265154 -0.160466  0.978808  1.024638 -0.523001 -0.577519 -1.505237   \n",
       "8 -0.265154 -0.931206  1.117494  1.087196 -0.523001 -0.577519 -1.505237   \n",
       "9 -0.265154 -0.399808  0.616090  1.329635 -0.523001 -0.577519 -1.505237   \n",
       "\n",
       "          b     lstat  \n",
       "0  0.441052 -1.075562  \n",
       "1  0.441052 -0.492439  \n",
       "2  0.396427 -1.208727  \n",
       "3  0.416163 -1.361517  \n",
       "4  0.441052 -1.026501  \n",
       "5  0.410571 -1.043322  \n",
       "6  0.426798 -0.031268  \n",
       "7  0.441052  0.910700  \n",
       "8  0.328448  2.421774  \n",
       "9  0.329325  0.623344  "
      ]
     },
     "execution_count": 401,
     "metadata": {},
     "output_type": "execute_result"
    }
   ],
   "source": [
    "x[:10]"
   ]
  },
  {
   "cell_type": "code",
   "execution_count": 402,
   "metadata": {},
   "outputs": [],
   "source": [
    "y = x.cmedv.to_numpy()"
   ]
  },
  {
   "cell_type": "code",
   "execution_count": 403,
   "metadata": {},
   "outputs": [],
   "source": [
    "x = x.drop(['cmedv'],axis=1).to_numpy()"
   ]
  },
  {
   "cell_type": "code",
   "execution_count": 404,
   "metadata": {},
   "outputs": [
    {
     "data": {
      "text/plain": [
       "((506, 15), (506,))"
      ]
     },
     "execution_count": 404,
     "metadata": {},
     "output_type": "execute_result"
    }
   ],
   "source": [
    "x.shape, y.shape"
   ]
  },
  {
   "cell_type": "code",
   "execution_count": 405,
   "metadata": {},
   "outputs": [],
   "source": [
    "# Train params\n",
    "delta = 0.1\n",
    "epsilon = 1e-7\n",
    "max_iterations = 5000"
   ]
  },
  {
   "cell_type": "code",
   "execution_count": 406,
   "metadata": {},
   "outputs": [],
   "source": [
    "my_beta = mylm_g(x,y, delta, epsilon, max_iterations)"
   ]
  },
  {
   "cell_type": "code",
   "execution_count": 407,
   "metadata": {},
   "outputs": [],
   "source": [
    "reg = LinearRegression().fit(x, y)"
   ]
  },
  {
   "cell_type": "code",
   "execution_count": 408,
   "metadata": {},
   "outputs": [],
   "source": [
    "lm_beta = reg.coef_"
   ]
  },
  {
   "cell_type": "code",
   "execution_count": 409,
   "metadata": {},
   "outputs": [],
   "source": [
    "beta_df = pd.DataFrame({'lm': lm_beta, 'mylm_g': my_beta})"
   ]
  },
  {
   "cell_type": "code",
   "execution_count": 410,
   "metadata": {},
   "outputs": [
    {
     "data": {
      "text/html": [
       "<div>\n",
       "<style scoped>\n",
       "    .dataframe tbody tr th:only-of-type {\n",
       "        vertical-align: middle;\n",
       "    }\n",
       "\n",
       "    .dataframe tbody tr th {\n",
       "        vertical-align: top;\n",
       "    }\n",
       "\n",
       "    .dataframe thead th {\n",
       "        text-align: right;\n",
       "    }\n",
       "</style>\n",
       "<table border=\"1\" class=\"dataframe\">\n",
       "  <thead>\n",
       "    <tr style=\"text-align: right;\">\n",
       "      <th></th>\n",
       "      <th>lm</th>\n",
       "      <th>mylm_g</th>\n",
       "    </tr>\n",
       "  </thead>\n",
       "  <tbody>\n",
       "    <tr>\n",
       "      <th>0</th>\n",
       "      <td>-0.032316</td>\n",
       "      <td>-0.032317</td>\n",
       "    </tr>\n",
       "    <tr>\n",
       "      <th>1</th>\n",
       "      <td>0.030245</td>\n",
       "      <td>0.030245</td>\n",
       "    </tr>\n",
       "    <tr>\n",
       "      <th>2</th>\n",
       "      <td>-0.097936</td>\n",
       "      <td>-0.097936</td>\n",
       "    </tr>\n",
       "    <tr>\n",
       "      <th>3</th>\n",
       "      <td>0.118273</td>\n",
       "      <td>0.118272</td>\n",
       "    </tr>\n",
       "    <tr>\n",
       "      <th>4</th>\n",
       "      <td>0.011390</td>\n",
       "      <td>0.011388</td>\n",
       "    </tr>\n",
       "    <tr>\n",
       "      <th>5</th>\n",
       "      <td>0.071312</td>\n",
       "      <td>0.071313</td>\n",
       "    </tr>\n",
       "    <tr>\n",
       "      <th>6</th>\n",
       "      <td>-0.199704</td>\n",
       "      <td>-0.199703</td>\n",
       "    </tr>\n",
       "    <tr>\n",
       "      <th>7</th>\n",
       "      <td>0.287233</td>\n",
       "      <td>0.287233</td>\n",
       "    </tr>\n",
       "    <tr>\n",
       "      <th>8</th>\n",
       "      <td>0.007565</td>\n",
       "      <td>0.007565</td>\n",
       "    </tr>\n",
       "    <tr>\n",
       "      <th>9</th>\n",
       "      <td>-0.321039</td>\n",
       "      <td>-0.321039</td>\n",
       "    </tr>\n",
       "    <tr>\n",
       "      <th>10</th>\n",
       "      <td>0.290851</td>\n",
       "      <td>0.290846</td>\n",
       "    </tr>\n",
       "    <tr>\n",
       "      <th>11</th>\n",
       "      <td>-0.236526</td>\n",
       "      <td>-0.236521</td>\n",
       "    </tr>\n",
       "    <tr>\n",
       "      <th>12</th>\n",
       "      <td>-0.206805</td>\n",
       "      <td>-0.206805</td>\n",
       "    </tr>\n",
       "    <tr>\n",
       "      <th>13</th>\n",
       "      <td>0.091235</td>\n",
       "      <td>0.091235</td>\n",
       "    </tr>\n",
       "    <tr>\n",
       "      <th>14</th>\n",
       "      <td>-0.417973</td>\n",
       "      <td>-0.417973</td>\n",
       "    </tr>\n",
       "  </tbody>\n",
       "</table>\n",
       "</div>"
      ],
      "text/plain": [
       "          lm    mylm_g\n",
       "0  -0.032316 -0.032317\n",
       "1   0.030245  0.030245\n",
       "2  -0.097936 -0.097936\n",
       "3   0.118273  0.118272\n",
       "4   0.011390  0.011388\n",
       "5   0.071312  0.071313\n",
       "6  -0.199704 -0.199703\n",
       "7   0.287233  0.287233\n",
       "8   0.007565  0.007565\n",
       "9  -0.321039 -0.321039\n",
       "10  0.290851  0.290846\n",
       "11 -0.236526 -0.236521\n",
       "12 -0.206805 -0.206805\n",
       "13  0.091235  0.091235\n",
       "14 -0.417973 -0.417973"
      ]
     },
     "execution_count": 410,
     "metadata": {},
     "output_type": "execute_result"
    }
   ],
   "source": [
    "beta_df"
   ]
  }
 ],
 "metadata": {
  "kernelspec": {
   "display_name": "Python 3",
   "language": "python",
   "name": "python3"
  },
  "language_info": {
   "codemirror_mode": {
    "name": "ipython",
    "version": 3
   },
   "file_extension": ".py",
   "mimetype": "text/x-python",
   "name": "python",
   "nbconvert_exporter": "python",
   "pygments_lexer": "ipython3",
   "version": "3.7.3"
  }
 },
 "nbformat": 4,
 "nbformat_minor": 2
}
