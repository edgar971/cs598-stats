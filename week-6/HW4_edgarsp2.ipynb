{
 "cells": [
  {
   "cell_type": "markdown",
   "metadata": {},
   "source": [
    "# STAT 542 / CS 598: Homework 4"
   ]
  },
  {
   "cell_type": "markdown",
   "metadata": {},
   "source": [
    "Fall 2019, by Edgar Pino"
   ]
  },
  {
   "cell_type": "markdown",
   "metadata": {},
   "source": [
    "Due: Monday, Oct 14 by 11:59 PM Pacific Time"
   ]
  },
  {
   "cell_type": "code",
   "execution_count": 475,
   "metadata": {},
   "outputs": [],
   "source": [
    "import pandas as pd\n",
    "import numpy as np\n",
    "import itertools\n",
    "import operator\n",
    "from sklearn.model_selection import train_test_split\n",
    "from sklearn.ensemble import RandomForestRegressor\n",
    "from sklearn.metrics import accuracy_score"
   ]
  },
  {
   "cell_type": "markdown",
   "metadata": {},
   "source": [
    "# Question 1 [70 Points] Tuning Random Forests in Virtual Twins"
   ]
  },
  {
   "cell_type": "code",
   "execution_count": 476,
   "metadata": {},
   "outputs": [],
   "source": [
    "health_df = pd.read_csv('./data/sepsis.csv')"
   ]
  },
  {
   "cell_type": "code",
   "execution_count": 477,
   "metadata": {},
   "outputs": [],
   "source": [
    "health_df = health_df.drop(columns=['Unnamed: 0'])"
   ]
  },
  {
   "cell_type": "code",
   "execution_count": 478,
   "metadata": {},
   "outputs": [
    {
     "data": {
      "text/html": [
       "<div>\n",
       "<style scoped>\n",
       "    .dataframe tbody tr th:only-of-type {\n",
       "        vertical-align: middle;\n",
       "    }\n",
       "\n",
       "    .dataframe tbody tr th {\n",
       "        vertical-align: top;\n",
       "    }\n",
       "\n",
       "    .dataframe thead th {\n",
       "        text-align: right;\n",
       "    }\n",
       "</style>\n",
       "<table border=\"1\" class=\"dataframe\">\n",
       "  <thead>\n",
       "    <tr style=\"text-align: right;\">\n",
       "      <th></th>\n",
       "      <th>Health</th>\n",
       "      <th>THERAPY</th>\n",
       "      <th>PRAPACHE</th>\n",
       "      <th>AGE</th>\n",
       "      <th>BLGCS</th>\n",
       "      <th>ORGANNUM</th>\n",
       "      <th>BLIL6</th>\n",
       "      <th>BLLPLAT</th>\n",
       "      <th>BLLBILI</th>\n",
       "      <th>BLLCREAT</th>\n",
       "      <th>TIMFIRST</th>\n",
       "      <th>BLADL</th>\n",
       "      <th>blSOFA</th>\n",
       "      <th>BEST</th>\n",
       "    </tr>\n",
       "  </thead>\n",
       "  <tbody>\n",
       "    <tr>\n",
       "      <td>165</td>\n",
       "      <td>0.356651</td>\n",
       "      <td>0</td>\n",
       "      <td>19</td>\n",
       "      <td>59.871</td>\n",
       "      <td>15</td>\n",
       "      <td>1</td>\n",
       "      <td>92.800000</td>\n",
       "      <td>244.0</td>\n",
       "      <td>1.0</td>\n",
       "      <td>1.0</td>\n",
       "      <td>13.78</td>\n",
       "      <td>0.0</td>\n",
       "      <td>4.0</td>\n",
       "      <td>0</td>\n",
       "    </tr>\n",
       "    <tr>\n",
       "      <td>271</td>\n",
       "      <td>-1.350463</td>\n",
       "      <td>0</td>\n",
       "      <td>26</td>\n",
       "      <td>56.098</td>\n",
       "      <td>15</td>\n",
       "      <td>1</td>\n",
       "      <td>406.600000</td>\n",
       "      <td>153.0</td>\n",
       "      <td>2.5</td>\n",
       "      <td>1.5</td>\n",
       "      <td>21.73</td>\n",
       "      <td>0.0</td>\n",
       "      <td>5.0</td>\n",
       "      <td>0</td>\n",
       "    </tr>\n",
       "    <tr>\n",
       "      <td>369</td>\n",
       "      <td>2.151098</td>\n",
       "      <td>0</td>\n",
       "      <td>21</td>\n",
       "      <td>53.656</td>\n",
       "      <td>15</td>\n",
       "      <td>2</td>\n",
       "      <td>406.600000</td>\n",
       "      <td>191.0</td>\n",
       "      <td>0.9</td>\n",
       "      <td>1.0</td>\n",
       "      <td>34.83</td>\n",
       "      <td>0.0</td>\n",
       "      <td>3.0</td>\n",
       "      <td>0</td>\n",
       "    </tr>\n",
       "    <tr>\n",
       "      <td>408</td>\n",
       "      <td>0.590776</td>\n",
       "      <td>0</td>\n",
       "      <td>37</td>\n",
       "      <td>49.823</td>\n",
       "      <td>6</td>\n",
       "      <td>2</td>\n",
       "      <td>301.800000</td>\n",
       "      <td>172.0</td>\n",
       "      <td>2.5</td>\n",
       "      <td>20.0</td>\n",
       "      <td>50.67</td>\n",
       "      <td>0.0</td>\n",
       "      <td>13.0</td>\n",
       "      <td>1</td>\n",
       "    </tr>\n",
       "    <tr>\n",
       "      <td>170</td>\n",
       "      <td>-0.251315</td>\n",
       "      <td>1</td>\n",
       "      <td>19</td>\n",
       "      <td>49.823</td>\n",
       "      <td>15</td>\n",
       "      <td>2</td>\n",
       "      <td>723.000000</td>\n",
       "      <td>45.0</td>\n",
       "      <td>3.4</td>\n",
       "      <td>1.0</td>\n",
       "      <td>10.00</td>\n",
       "      <td>0.0</td>\n",
       "      <td>10.0</td>\n",
       "      <td>1</td>\n",
       "    </tr>\n",
       "    <tr>\n",
       "      <td>47</td>\n",
       "      <td>-3.000959</td>\n",
       "      <td>0</td>\n",
       "      <td>20</td>\n",
       "      <td>33.174</td>\n",
       "      <td>11</td>\n",
       "      <td>1</td>\n",
       "      <td>28928.448742</td>\n",
       "      <td>153.0</td>\n",
       "      <td>2.5</td>\n",
       "      <td>1.0</td>\n",
       "      <td>30.67</td>\n",
       "      <td>0.0</td>\n",
       "      <td>8.0</td>\n",
       "      <td>1</td>\n",
       "    </tr>\n",
       "    <tr>\n",
       "      <td>270</td>\n",
       "      <td>-3.314716</td>\n",
       "      <td>0</td>\n",
       "      <td>26</td>\n",
       "      <td>65.891</td>\n",
       "      <td>14</td>\n",
       "      <td>2</td>\n",
       "      <td>1232.000000</td>\n",
       "      <td>244.0</td>\n",
       "      <td>0.9</td>\n",
       "      <td>5.0</td>\n",
       "      <td>24.50</td>\n",
       "      <td>9.0</td>\n",
       "      <td>8.0</td>\n",
       "      <td>0</td>\n",
       "    </tr>\n",
       "    <tr>\n",
       "      <td>260</td>\n",
       "      <td>-1.717820</td>\n",
       "      <td>1</td>\n",
       "      <td>25</td>\n",
       "      <td>33.174</td>\n",
       "      <td>15</td>\n",
       "      <td>2</td>\n",
       "      <td>37.100000</td>\n",
       "      <td>78.0</td>\n",
       "      <td>1.0</td>\n",
       "      <td>1.5</td>\n",
       "      <td>19.33</td>\n",
       "      <td>1.0</td>\n",
       "      <td>11.0</td>\n",
       "      <td>1</td>\n",
       "    </tr>\n",
       "    <tr>\n",
       "      <td>401</td>\n",
       "      <td>-0.023171</td>\n",
       "      <td>0</td>\n",
       "      <td>25</td>\n",
       "      <td>59.871</td>\n",
       "      <td>13</td>\n",
       "      <td>5</td>\n",
       "      <td>1232.000000</td>\n",
       "      <td>45.0</td>\n",
       "      <td>0.9</td>\n",
       "      <td>3.8</td>\n",
       "      <td>59.17</td>\n",
       "      <td>0.0</td>\n",
       "      <td>11.0</td>\n",
       "      <td>0</td>\n",
       "    </tr>\n",
       "    <tr>\n",
       "      <td>366</td>\n",
       "      <td>-2.139926</td>\n",
       "      <td>0</td>\n",
       "      <td>37</td>\n",
       "      <td>76.068</td>\n",
       "      <td>11</td>\n",
       "      <td>2</td>\n",
       "      <td>60.300000</td>\n",
       "      <td>359.0</td>\n",
       "      <td>0.9</td>\n",
       "      <td>3.0</td>\n",
       "      <td>30.67</td>\n",
       "      <td>2.0</td>\n",
       "      <td>7.0</td>\n",
       "      <td>1</td>\n",
       "    </tr>\n",
       "  </tbody>\n",
       "</table>\n",
       "</div>"
      ],
      "text/plain": [
       "       Health  THERAPY  PRAPACHE     AGE  BLGCS  ORGANNUM         BLIL6  \\\n",
       "165  0.356651        0        19  59.871     15         1     92.800000   \n",
       "271 -1.350463        0        26  56.098     15         1    406.600000   \n",
       "369  2.151098        0        21  53.656     15         2    406.600000   \n",
       "408  0.590776        0        37  49.823      6         2    301.800000   \n",
       "170 -0.251315        1        19  49.823     15         2    723.000000   \n",
       "47  -3.000959        0        20  33.174     11         1  28928.448742   \n",
       "270 -3.314716        0        26  65.891     14         2   1232.000000   \n",
       "260 -1.717820        1        25  33.174     15         2     37.100000   \n",
       "401 -0.023171        0        25  59.871     13         5   1232.000000   \n",
       "366 -2.139926        0        37  76.068     11         2     60.300000   \n",
       "\n",
       "     BLLPLAT  BLLBILI  BLLCREAT  TIMFIRST  BLADL  blSOFA  BEST  \n",
       "165    244.0      1.0       1.0     13.78    0.0     4.0     0  \n",
       "271    153.0      2.5       1.5     21.73    0.0     5.0     0  \n",
       "369    191.0      0.9       1.0     34.83    0.0     3.0     0  \n",
       "408    172.0      2.5      20.0     50.67    0.0    13.0     1  \n",
       "170     45.0      3.4       1.0     10.00    0.0    10.0     1  \n",
       "47     153.0      2.5       1.0     30.67    0.0     8.0     1  \n",
       "270    244.0      0.9       5.0     24.50    9.0     8.0     0  \n",
       "260     78.0      1.0       1.5     19.33    1.0    11.0     1  \n",
       "401     45.0      0.9       3.8     59.17    0.0    11.0     0  \n",
       "366    359.0      0.9       3.0     30.67    2.0     7.0     1  "
      ]
     },
     "execution_count": 478,
     "metadata": {},
     "output_type": "execute_result"
    }
   ],
   "source": [
    "health_df.sample(10)"
   ]
  },
  {
   "cell_type": "code",
   "execution_count": 479,
   "metadata": {},
   "outputs": [],
   "source": [
    "health_active = health_df.loc[health_df['THERAPY'] == 1]"
   ]
  },
  {
   "cell_type": "code",
   "execution_count": 480,
   "metadata": {},
   "outputs": [],
   "source": [
    "health_control = health_df.loc[health_df['THERAPY'] == 0]"
   ]
  },
  {
   "cell_type": "markdown",
   "metadata": {},
   "source": [
    "## Randomly split the data into 75% for training and 25% for testing."
   ]
  },
  {
   "cell_type": "code",
   "execution_count": 481,
   "metadata": {},
   "outputs": [],
   "source": [
    "y_active = health_active.Health"
   ]
  },
  {
   "cell_type": "code",
   "execution_count": 482,
   "metadata": {},
   "outputs": [],
   "source": [
    "x_active = health_active.drop(columns=['Health'])"
   ]
  },
  {
   "cell_type": "code",
   "execution_count": 483,
   "metadata": {},
   "outputs": [],
   "source": [
    "y_control = health_control.Health"
   ]
  },
  {
   "cell_type": "code",
   "execution_count": 484,
   "metadata": {},
   "outputs": [],
   "source": [
    "x_control = health_control.drop(columns=['Health'])"
   ]
  },
  {
   "cell_type": "code",
   "execution_count": 485,
   "metadata": {},
   "outputs": [],
   "source": [
    "X_active_train, X_active_test, y_active_train, y_active_test = train_test_split(x_active, y_active, test_size=0.25)"
   ]
  },
  {
   "cell_type": "code",
   "execution_count": 486,
   "metadata": {},
   "outputs": [],
   "source": [
    "X_control_train, X_control_test, y_control_train, y_control_test = train_test_split(x_control, y_control, test_size=0.25)"
   ]
  },
  {
   "cell_type": "markdown",
   "metadata": {},
   "source": [
    "## For the training data, fit the virtual twins model and then use the testing data to suggest the best treatment.\n",
    "- You should not use the variable BEST when fitting the models\n",
    "- Pick three different mtry values and three different nodesize, leave all other tuning parameters as default\n",
    "- After predicting the best treatment in the testing data, compare it to the truth BEST\n"
   ]
  },
  {
   "cell_type": "code",
   "execution_count": 487,
   "metadata": {},
   "outputs": [],
   "source": [
    "max_features_vals = [6,8,10]"
   ]
  },
  {
   "cell_type": "code",
   "execution_count": 488,
   "metadata": {},
   "outputs": [],
   "source": [
    "min_samples_leaf = [5,10,20]"
   ]
  },
  {
   "cell_type": "code",
   "execution_count": 489,
   "metadata": {},
   "outputs": [],
   "source": [
    "params = []"
   ]
  },
  {
   "cell_type": "code",
   "execution_count": 490,
   "metadata": {},
   "outputs": [],
   "source": [
    "for r in itertools.product(max_features_vals, min_samples_leaf): \n",
    "    params.append((r[0],r[1]))"
   ]
  },
  {
   "cell_type": "code",
   "execution_count": 491,
   "metadata": {},
   "outputs": [],
   "source": [
    "def fit_random_forest(x, y, max_features=5, min_samples_leaf=1):\n",
    "    regresssor = RandomForestRegressor(max_features=max_features, min_samples_leaf=min_samples_leaf, n_estimators=10)\n",
    "    return regresssor.fit(x, y)"
   ]
  },
  {
   "cell_type": "code",
   "execution_count": 492,
   "metadata": {},
   "outputs": [],
   "source": [
    "def step(max_features=5, min_samples_leaf=1):\n",
    "    X_active_train, X_active_test, y_active_train, y_active_test = train_test_split(x_active, y_active, test_size=0.25)\n",
    "    X_control_train, X_control_test, y_control_train, y_control_test = train_test_split(x_control, y_control, test_size=0.25)\n",
    "    \n",
    "    active_regresssor = fit_random_forest(X_active_train.drop(columns=['BEST', 'THERAPY']), y_active_train, max_features, min_samples_leaf)\n",
    "    control_regresssor = fit_random_forest(X_control_train.drop(columns=['BEST', 'THERAPY']), y_control_train, max_features, min_samples_leaf)\n",
    "    \n",
    "    x_test = pd.concat([X_active_test, X_control_test])\n",
    "    \n",
    "    y_active_pred = active_regresssor.predict(x_test.drop(columns=['BEST', 'THERAPY']))\n",
    "    y_control_pred = control_regresssor.predict(x_test.drop(columns=['BEST', 'THERAPY']))\n",
    "    \n",
    "    y_pred = []\n",
    "    for i in range(len(x_test)):\n",
    "        if y_active_pred[i] > y_control_pred[i]:\n",
    "            y_pred.append(1)\n",
    "        else:\n",
    "            y_pred.append(0)\n",
    "            \n",
    "    return accuracy_score(x_test.BEST, y_pred)"
   ]
  },
  {
   "cell_type": "code",
   "execution_count": 493,
   "metadata": {},
   "outputs": [],
   "source": [
    "def test_params(params):\n",
    "    best_accuracy = 0\n",
    "    best_params = {}\n",
    "\n",
    "    for (features, lefs) in params:\n",
    "        step_accuracy = step(max_features=features, min_samples_leaf=lefs)\n",
    "        if step_accuracy > best_accuracy:\n",
    "            best_params['max_features'] = features\n",
    "            best_params['min_samples_leaf'] = lefs\n",
    "            best_accuracy = step_accuracy\n",
    "            \n",
    "    return best_accuracy, best_params"
   ]
  },
  {
   "cell_type": "code",
   "execution_count": 498,
   "metadata": {},
   "outputs": [],
   "source": [
    "accuracies = []\n",
    "top_param = {}\n",
    "for i in range(100):\n",
    "    accuracy, best_params = test_params(params)\n",
    "    key = f\"{best_params['max_features']}-{best_params['min_samples_leaf']}\"\n",
    "    if key in top_param:\n",
    "        top_param[key]+= 1\n",
    "    else:\n",
    "        top_param[key] = 1\n",
    "        \n",
    "    accuracies.append(accuracy)"
   ]
  },
  {
   "cell_type": "code",
   "execution_count": 499,
   "metadata": {},
   "outputs": [],
   "source": [
    "accuracies = np.array(accuracies)"
   ]
  },
  {
   "cell_type": "code",
   "execution_count": 500,
   "metadata": {},
   "outputs": [],
   "source": [
    "(best_max_features, best_min_samples_leaf) = sorted(top_param.items(), key=operator.itemgetter(1), reverse=True)[0][0].split('-')"
   ]
  },
  {
   "cell_type": "code",
   "execution_count": 501,
   "metadata": {},
   "outputs": [
    {
     "name": "stdout",
     "output_type": "stream",
     "text": [
      "Got an average prediction accuracy of 0.8639495798319327. The best max_features is 10 and best min_samples_leaf is 20\n"
     ]
    }
   ],
   "source": [
    "print(f\"Got an average prediction accuracy of {accuracies.mean()}. The best max_features is {best_max_features} and best min_samples_leaf is {best_min_samples_leaf}\")"
   ]
  },
  {
   "cell_type": "markdown",
   "metadata": {},
   "source": [
    "# Question 2 [30 Points] Second Step in Virtual Twins"
   ]
  },
  {
   "cell_type": "code",
   "execution_count": 502,
   "metadata": {},
   "outputs": [],
   "source": [
    "from sklearn import tree"
   ]
  },
  {
   "cell_type": "markdown",
   "metadata": {},
   "source": [
    "### Fit Virtual Twins model"
   ]
  },
  {
   "cell_type": "code",
   "execution_count": 503,
   "metadata": {},
   "outputs": [],
   "source": [
    "best_max_features = int(best_max_features)"
   ]
  },
  {
   "cell_type": "code",
   "execution_count": 504,
   "metadata": {},
   "outputs": [],
   "source": [
    "best_min_samples_leaf = int(best_min_samples_leaf)"
   ]
  },
  {
   "cell_type": "code",
   "execution_count": 505,
   "metadata": {},
   "outputs": [],
   "source": [
    "active_regresssor_2 = fit_random_forest(x_active.drop(columns=['BEST', 'THERAPY']), y_active, max_features=best_max_features, min_samples_leaf=best_min_samples_leaf)"
   ]
  },
  {
   "cell_type": "code",
   "execution_count": 506,
   "metadata": {},
   "outputs": [],
   "source": [
    "control_regresssor_2 = fit_random_forest(x_control.drop(columns=['BEST', 'THERAPY']), y_control, max_features=best_max_features, min_samples_leaf=best_min_samples_leaf)"
   ]
  },
  {
   "cell_type": "code",
   "execution_count": 507,
   "metadata": {},
   "outputs": [],
   "source": [
    "x_test_2 = pd.concat([x_active, x_control])"
   ]
  },
  {
   "cell_type": "code",
   "execution_count": 508,
   "metadata": {},
   "outputs": [],
   "source": [
    "y_active_pred = active_regresssor_2.predict(x_test_2.drop(columns=['BEST', 'THERAPY']))\n",
    "y_control_pred = control_regresssor_2.predict(x_test_2.drop(columns=['BEST', 'THERAPY']))"
   ]
  },
  {
   "cell_type": "code",
   "execution_count": 509,
   "metadata": {},
   "outputs": [],
   "source": [
    "y_pred_twin = []\n",
    "for i in range(len(x_test_2)):\n",
    "    if y_active_pred[i] > y_control_pred[i]:\n",
    "        y_pred_twin.append(1)\n",
    "    else:\n",
    "        y_pred_twin.append(0)"
   ]
  },
  {
   "cell_type": "code",
   "execution_count": 510,
   "metadata": {},
   "outputs": [],
   "source": [
    "twins_accuracy = accuracy_score(x_test_2.BEST, y_pred_twin)"
   ]
  },
  {
   "cell_type": "code",
   "execution_count": 511,
   "metadata": {},
   "outputs": [],
   "source": [
    "y_train = y_pred_twin"
   ]
  },
  {
   "cell_type": "markdown",
   "metadata": {},
   "source": [
    "### Fit CART model"
   ]
  },
  {
   "cell_type": "code",
   "execution_count": 518,
   "metadata": {},
   "outputs": [],
   "source": [
    "x_train = health_df.drop(columns=['BEST', 'THERAPY', 'Health'])"
   ]
  },
  {
   "cell_type": "code",
   "execution_count": 534,
   "metadata": {},
   "outputs": [],
   "source": [
    "clf = tree.DecisionTreeClassifier(max_features=best_max_features, min_samples_leaf=best_min_samples_leaf)"
   ]
  },
  {
   "cell_type": "code",
   "execution_count": 535,
   "metadata": {},
   "outputs": [],
   "source": [
    "clf = clf.fit(x_train, y_train)"
   ]
  },
  {
   "cell_type": "code",
   "execution_count": 536,
   "metadata": {},
   "outputs": [],
   "source": [
    "y_pred_tree = clf.predict(x_train)"
   ]
  },
  {
   "cell_type": "code",
   "execution_count": 537,
   "metadata": {},
   "outputs": [],
   "source": [
    "tree_accuracy = accuracy_score(health_df.BEST, y_pred_tree)"
   ]
  },
  {
   "cell_type": "markdown",
   "metadata": {},
   "source": [
    "### Show accuracies"
   ]
  },
  {
   "cell_type": "code",
   "execution_count": 539,
   "metadata": {},
   "outputs": [
    {
     "name": "stdout",
     "output_type": "stream",
     "text": [
      "Virtual Twins accuracy: 0.8404255319148937. CART model accuracy: 0.6191489361702127\n"
     ]
    }
   ],
   "source": [
    "print(f\"Virtual Twins accuracy: {twins_accuracy}. CART model accuracy: {tree_accuracy}\")"
   ]
  },
  {
   "cell_type": "code",
   "execution_count": null,
   "metadata": {},
   "outputs": [],
   "source": []
  }
 ],
 "metadata": {
  "kernelspec": {
   "display_name": "Python 3",
   "language": "python",
   "name": "python3"
  },
  "language_info": {
   "codemirror_mode": {
    "name": "ipython",
    "version": 3
   },
   "file_extension": ".py",
   "mimetype": "text/x-python",
   "name": "python",
   "nbconvert_exporter": "python",
   "pygments_lexer": "ipython3",
   "version": "3.7.3"
  }
 },
 "nbformat": 4,
 "nbformat_minor": 4
}
