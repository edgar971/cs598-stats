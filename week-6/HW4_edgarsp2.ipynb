{
 "cells": [
  {
   "cell_type": "markdown",
   "metadata": {},
   "source": [
    "# STAT 542 / CS 598: Homework 4"
   ]
  },
  {
   "cell_type": "markdown",
   "metadata": {},
   "source": [
    "Fall 2019, by Edgar Pino"
   ]
  },
  {
   "cell_type": "markdown",
   "metadata": {},
   "source": [
    "Due: Monday, Oct 14 by 11:59 PM Pacific Time"
   ]
  },
  {
   "cell_type": "code",
   "execution_count": 120,
   "metadata": {},
   "outputs": [],
   "source": [
    "import pandas as pd\n",
    "import itertools\n",
    "from sklearn.model_selection import train_test_split\n",
    "from sklearn.ensemble import RandomForestRegressor\n",
    "from sklearn.metrics import accuracy_score"
   ]
  },
  {
   "cell_type": "markdown",
   "metadata": {},
   "source": [
    "# Question 1 [70 Points] Tuning Random Forests in Virtual Twins"
   ]
  },
  {
   "cell_type": "code",
   "execution_count": 3,
   "metadata": {},
   "outputs": [],
   "source": [
    "health_df = pd.read_csv('./data/sepsis.csv')"
   ]
  },
  {
   "cell_type": "code",
   "execution_count": 4,
   "metadata": {},
   "outputs": [],
   "source": [
    "health_df = health_df.drop(columns=['Unnamed: 0'])"
   ]
  },
  {
   "cell_type": "code",
   "execution_count": 5,
   "metadata": {},
   "outputs": [
    {
     "data": {
      "text/html": [
       "<div>\n",
       "<style scoped>\n",
       "    .dataframe tbody tr th:only-of-type {\n",
       "        vertical-align: middle;\n",
       "    }\n",
       "\n",
       "    .dataframe tbody tr th {\n",
       "        vertical-align: top;\n",
       "    }\n",
       "\n",
       "    .dataframe thead th {\n",
       "        text-align: right;\n",
       "    }\n",
       "</style>\n",
       "<table border=\"1\" class=\"dataframe\">\n",
       "  <thead>\n",
       "    <tr style=\"text-align: right;\">\n",
       "      <th></th>\n",
       "      <th>Health</th>\n",
       "      <th>THERAPY</th>\n",
       "      <th>PRAPACHE</th>\n",
       "      <th>AGE</th>\n",
       "      <th>BLGCS</th>\n",
       "      <th>ORGANNUM</th>\n",
       "      <th>BLIL6</th>\n",
       "      <th>BLLPLAT</th>\n",
       "      <th>BLLBILI</th>\n",
       "      <th>BLLCREAT</th>\n",
       "      <th>TIMFIRST</th>\n",
       "      <th>BLADL</th>\n",
       "      <th>blSOFA</th>\n",
       "      <th>BEST</th>\n",
       "    </tr>\n",
       "  </thead>\n",
       "  <tbody>\n",
       "    <tr>\n",
       "      <th>170</th>\n",
       "      <td>-0.251315</td>\n",
       "      <td>1</td>\n",
       "      <td>19</td>\n",
       "      <td>49.823</td>\n",
       "      <td>15</td>\n",
       "      <td>2</td>\n",
       "      <td>723.000000</td>\n",
       "      <td>45.0</td>\n",
       "      <td>3.4</td>\n",
       "      <td>1.0</td>\n",
       "      <td>10.00</td>\n",
       "      <td>0.0</td>\n",
       "      <td>10.0</td>\n",
       "      <td>1</td>\n",
       "    </tr>\n",
       "    <tr>\n",
       "      <th>149</th>\n",
       "      <td>0.193811</td>\n",
       "      <td>1</td>\n",
       "      <td>28</td>\n",
       "      <td>53.656</td>\n",
       "      <td>14</td>\n",
       "      <td>1</td>\n",
       "      <td>1232.000000</td>\n",
       "      <td>650.0</td>\n",
       "      <td>0.4</td>\n",
       "      <td>1.0</td>\n",
       "      <td>10.00</td>\n",
       "      <td>8.0</td>\n",
       "      <td>3.0</td>\n",
       "      <td>0</td>\n",
       "    </tr>\n",
       "    <tr>\n",
       "      <th>407</th>\n",
       "      <td>-4.317473</td>\n",
       "      <td>1</td>\n",
       "      <td>19</td>\n",
       "      <td>56.098</td>\n",
       "      <td>12</td>\n",
       "      <td>2</td>\n",
       "      <td>406.600000</td>\n",
       "      <td>244.0</td>\n",
       "      <td>0.9</td>\n",
       "      <td>1.0</td>\n",
       "      <td>3775.90</td>\n",
       "      <td>0.0</td>\n",
       "      <td>6.0</td>\n",
       "      <td>0</td>\n",
       "    </tr>\n",
       "    <tr>\n",
       "      <th>119</th>\n",
       "      <td>6.779147</td>\n",
       "      <td>1</td>\n",
       "      <td>25</td>\n",
       "      <td>68.818</td>\n",
       "      <td>13</td>\n",
       "      <td>1</td>\n",
       "      <td>296550.000000</td>\n",
       "      <td>137.0</td>\n",
       "      <td>0.4</td>\n",
       "      <td>1.4</td>\n",
       "      <td>13.78</td>\n",
       "      <td>9.0</td>\n",
       "      <td>7.0</td>\n",
       "      <td>0</td>\n",
       "    </tr>\n",
       "    <tr>\n",
       "      <th>59</th>\n",
       "      <td>-1.664960</td>\n",
       "      <td>0</td>\n",
       "      <td>19</td>\n",
       "      <td>53.656</td>\n",
       "      <td>11</td>\n",
       "      <td>2</td>\n",
       "      <td>15844.532433</td>\n",
       "      <td>172.0</td>\n",
       "      <td>1.0</td>\n",
       "      <td>1.0</td>\n",
       "      <td>50.67</td>\n",
       "      <td>0.0</td>\n",
       "      <td>7.0</td>\n",
       "      <td>0</td>\n",
       "    </tr>\n",
       "    <tr>\n",
       "      <th>332</th>\n",
       "      <td>-1.399295</td>\n",
       "      <td>0</td>\n",
       "      <td>19</td>\n",
       "      <td>73.138</td>\n",
       "      <td>15</td>\n",
       "      <td>1</td>\n",
       "      <td>118.900000</td>\n",
       "      <td>650.0</td>\n",
       "      <td>0.8</td>\n",
       "      <td>1.1</td>\n",
       "      <td>39.83</td>\n",
       "      <td>0.0</td>\n",
       "      <td>7.0</td>\n",
       "      <td>0</td>\n",
       "    </tr>\n",
       "    <tr>\n",
       "      <th>244</th>\n",
       "      <td>0.448185</td>\n",
       "      <td>0</td>\n",
       "      <td>29</td>\n",
       "      <td>49.823</td>\n",
       "      <td>10</td>\n",
       "      <td>3</td>\n",
       "      <td>406.600000</td>\n",
       "      <td>153.0</td>\n",
       "      <td>2.5</td>\n",
       "      <td>1.8</td>\n",
       "      <td>21.73</td>\n",
       "      <td>0.0</td>\n",
       "      <td>12.0</td>\n",
       "      <td>1</td>\n",
       "    </tr>\n",
       "    <tr>\n",
       "      <th>103</th>\n",
       "      <td>-0.377317</td>\n",
       "      <td>1</td>\n",
       "      <td>27</td>\n",
       "      <td>63.471</td>\n",
       "      <td>12</td>\n",
       "      <td>1</td>\n",
       "      <td>519.400000</td>\n",
       "      <td>45.0</td>\n",
       "      <td>3.4</td>\n",
       "      <td>2.2</td>\n",
       "      <td>50.67</td>\n",
       "      <td>0.0</td>\n",
       "      <td>13.0</td>\n",
       "      <td>0</td>\n",
       "    </tr>\n",
       "    <tr>\n",
       "      <th>285</th>\n",
       "      <td>2.504733</td>\n",
       "      <td>0</td>\n",
       "      <td>22</td>\n",
       "      <td>56.098</td>\n",
       "      <td>15</td>\n",
       "      <td>4</td>\n",
       "      <td>92.800000</td>\n",
       "      <td>78.0</td>\n",
       "      <td>3.4</td>\n",
       "      <td>3.8</td>\n",
       "      <td>30.67</td>\n",
       "      <td>0.0</td>\n",
       "      <td>17.0</td>\n",
       "      <td>0</td>\n",
       "    </tr>\n",
       "    <tr>\n",
       "      <th>305</th>\n",
       "      <td>-1.678036</td>\n",
       "      <td>1</td>\n",
       "      <td>21</td>\n",
       "      <td>68.818</td>\n",
       "      <td>15</td>\n",
       "      <td>2</td>\n",
       "      <td>4952.000000</td>\n",
       "      <td>137.0</td>\n",
       "      <td>0.4</td>\n",
       "      <td>1.0</td>\n",
       "      <td>34.83</td>\n",
       "      <td>0.0</td>\n",
       "      <td>8.0</td>\n",
       "      <td>0</td>\n",
       "    </tr>\n",
       "  </tbody>\n",
       "</table>\n",
       "</div>"
      ],
      "text/plain": [
       "       Health  THERAPY  PRAPACHE     AGE  BLGCS  ORGANNUM          BLIL6  \\\n",
       "170 -0.251315        1        19  49.823     15         2     723.000000   \n",
       "149  0.193811        1        28  53.656     14         1    1232.000000   \n",
       "407 -4.317473        1        19  56.098     12         2     406.600000   \n",
       "119  6.779147        1        25  68.818     13         1  296550.000000   \n",
       "59  -1.664960        0        19  53.656     11         2   15844.532433   \n",
       "332 -1.399295        0        19  73.138     15         1     118.900000   \n",
       "244  0.448185        0        29  49.823     10         3     406.600000   \n",
       "103 -0.377317        1        27  63.471     12         1     519.400000   \n",
       "285  2.504733        0        22  56.098     15         4      92.800000   \n",
       "305 -1.678036        1        21  68.818     15         2    4952.000000   \n",
       "\n",
       "     BLLPLAT  BLLBILI  BLLCREAT  TIMFIRST  BLADL  blSOFA  BEST  \n",
       "170     45.0      3.4       1.0     10.00    0.0    10.0     1  \n",
       "149    650.0      0.4       1.0     10.00    8.0     3.0     0  \n",
       "407    244.0      0.9       1.0   3775.90    0.0     6.0     0  \n",
       "119    137.0      0.4       1.4     13.78    9.0     7.0     0  \n",
       "59     172.0      1.0       1.0     50.67    0.0     7.0     0  \n",
       "332    650.0      0.8       1.1     39.83    0.0     7.0     0  \n",
       "244    153.0      2.5       1.8     21.73    0.0    12.0     1  \n",
       "103     45.0      3.4       2.2     50.67    0.0    13.0     0  \n",
       "285     78.0      3.4       3.8     30.67    0.0    17.0     0  \n",
       "305    137.0      0.4       1.0     34.83    0.0     8.0     0  "
      ]
     },
     "execution_count": 5,
     "metadata": {},
     "output_type": "execute_result"
    }
   ],
   "source": [
    "health_df.sample(10)"
   ]
  },
  {
   "cell_type": "code",
   "execution_count": 6,
   "metadata": {},
   "outputs": [],
   "source": [
    "health_active = health_df.loc[health_df['THERAPY'] == 1]"
   ]
  },
  {
   "cell_type": "code",
   "execution_count": 7,
   "metadata": {},
   "outputs": [],
   "source": [
    "health_control = health_df.loc[health_df['THERAPY'] == 0]"
   ]
  },
  {
   "cell_type": "markdown",
   "metadata": {},
   "source": [
    "## Randomly split the data into 75% for training and 25% for testing."
   ]
  },
  {
   "cell_type": "code",
   "execution_count": 8,
   "metadata": {},
   "outputs": [],
   "source": [
    "y_active = health_active.Health"
   ]
  },
  {
   "cell_type": "code",
   "execution_count": 9,
   "metadata": {},
   "outputs": [],
   "source": [
    "x_active = health_active.drop(columns=['Health'])"
   ]
  },
  {
   "cell_type": "code",
   "execution_count": 10,
   "metadata": {},
   "outputs": [],
   "source": [
    "y_control = health_control.Health"
   ]
  },
  {
   "cell_type": "code",
   "execution_count": 11,
   "metadata": {},
   "outputs": [],
   "source": [
    "x_control = health_control.drop(columns=['Health'])"
   ]
  },
  {
   "cell_type": "code",
   "execution_count": 105,
   "metadata": {},
   "outputs": [],
   "source": [
    "X_active_train, X_active_test, y_active_train, y_active_test = train_test_split(x_active, y_active, test_size=0.25)"
   ]
  },
  {
   "cell_type": "code",
   "execution_count": 106,
   "metadata": {},
   "outputs": [],
   "source": [
    "X_control_train, X_control_test, y_control_train, y_control_test = train_test_split(x_control, y_control, test_size=0.25, )"
   ]
  },
  {
   "cell_type": "markdown",
   "metadata": {},
   "source": [
    "## For the training data, fit the virtual twins model and then use the testing data to suggest the best treatment.\n",
    "- You should not use the variable BEST when fitting the models\n",
    "- Pick three different mtry values and three different nodesize, leave all other tuning parameters as default\n",
    "- After predicting the best treatment in the testing data, compare it to the truth BEST\n"
   ]
  },
  {
   "cell_type": "code",
   "execution_count": 117,
   "metadata": {},
   "outputs": [],
   "source": [
    "max_features_vals = [5, 10, 15]"
   ]
  },
  {
   "cell_type": "code",
   "execution_count": 118,
   "metadata": {},
   "outputs": [],
   "source": [
    "min_samples_leaf = [1,3,5]"
   ]
  },
  {
   "cell_type": "code",
   "execution_count": 126,
   "metadata": {},
   "outputs": [],
   "source": [
    "params = []"
   ]
  },
  {
   "cell_type": "code",
   "execution_count": 127,
   "metadata": {},
   "outputs": [],
   "source": [
    "for r in itertools.product(max_features_vals, min_samples_leaf): \n",
    "    params.append([r[0],r[1]])"
   ]
  },
  {
   "cell_type": "code",
   "execution_count": 107,
   "metadata": {},
   "outputs": [],
   "source": [
    "active_regresssor = RandomForestRegressor(max_features=5, min_samples_leaf=1).fit(X_active_train.drop(columns=['BEST', 'THERAPY']), y_active_train)"
   ]
  },
  {
   "cell_type": "code",
   "execution_count": 108,
   "metadata": {},
   "outputs": [],
   "source": [
    "control_regresssor = RandomForestRegressor(max_features=5, min_samples_leaf=1).fit(X_control_train.drop(columns=['BEST', 'THERAPY']), y_control_train)"
   ]
  },
  {
   "cell_type": "code",
   "execution_count": 109,
   "metadata": {},
   "outputs": [],
   "source": [
    "x_test = pd.concat([X_active_test, X_control_test])"
   ]
  },
  {
   "cell_type": "code",
   "execution_count": 110,
   "metadata": {},
   "outputs": [],
   "source": [
    "y_active_pred = active_regresssor.predict(x_test.drop(columns=['BEST', 'THERAPY']))"
   ]
  },
  {
   "cell_type": "code",
   "execution_count": 111,
   "metadata": {},
   "outputs": [],
   "source": [
    "y_control_pred = control_regresssor.predict(x_test.drop(columns=['BEST', 'THERAPY']))"
   ]
  },
  {
   "cell_type": "code",
   "execution_count": 112,
   "metadata": {},
   "outputs": [],
   "source": [
    "y_pred = []"
   ]
  },
  {
   "cell_type": "code",
   "execution_count": 113,
   "metadata": {},
   "outputs": [],
   "source": [
    "for i in range(len(y_test)):\n",
    "    if y_active_pred[i] > y_control_pred[i]:\n",
    "        y_pred.append(1)\n",
    "    else:\n",
    "        y_pred.append(0)"
   ]
  },
  {
   "cell_type": "code",
   "execution_count": 114,
   "metadata": {},
   "outputs": [],
   "source": [
    "accuracy = accuracy_score(x_test.BEST, y_pred)"
   ]
  },
  {
   "cell_type": "code",
   "execution_count": 116,
   "metadata": {},
   "outputs": [
    {
     "data": {
      "text/plain": [
       "0.7394957983193278"
      ]
     },
     "execution_count": 116,
     "metadata": {},
     "output_type": "execute_result"
    }
   ],
   "source": [
    "accuracy"
   ]
  },
  {
   "cell_type": "code",
   "execution_count": null,
   "metadata": {},
   "outputs": [],
   "source": []
  },
  {
   "cell_type": "code",
   "execution_count": null,
   "metadata": {},
   "outputs": [],
   "source": []
  }
 ],
 "metadata": {
  "kernelspec": {
   "display_name": "Python 3",
   "language": "python",
   "name": "python3"
  },
  "language_info": {
   "codemirror_mode": {
    "name": "ipython",
    "version": 3
   },
   "file_extension": ".py",
   "mimetype": "text/x-python",
   "name": "python",
   "nbconvert_exporter": "python",
   "pygments_lexer": "ipython3",
   "version": "3.6.8"
  }
 },
 "nbformat": 4,
 "nbformat_minor": 2
}
