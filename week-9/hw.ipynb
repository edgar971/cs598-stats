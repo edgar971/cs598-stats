{
 "cells": [
  {
   "cell_type": "code",
   "execution_count": 13,
   "metadata": {},
   "outputs": [
    {
     "name": "stdout",
     "output_type": "stream",
     "text": [
      "Populating the interactive namespace from numpy and matplotlib\n"
     ]
    }
   ],
   "source": [
    "import pandas as pd\n",
    "import numpy as np\n",
    "import matplotlib.pyplot as plt\n",
    "%pylab inline"
   ]
  },
  {
   "cell_type": "code",
   "execution_count": 14,
   "metadata": {},
   "outputs": [],
   "source": [
    "def get_images_and_labels():\n",
    "    data = pd.read_csv('zip.train.csv')\n",
    "    labels = data.V1.to_numpy()\n",
    "    images = data.drop(columns=['Unnamed: 0', 'V1']).to_numpy()\n",
    "    return images, labels"
   ]
  },
  {
   "cell_type": "code",
   "execution_count": 15,
   "metadata": {},
   "outputs": [],
   "source": [
    "images, labels = get_images_and_labels()"
   ]
  },
  {
   "cell_type": "code",
   "execution_count": 16,
   "metadata": {},
   "outputs": [],
   "source": [
    "def showImage(pixels):\n",
    "    img_pixels = pixels.reshape((16,16))\n",
    "    plt.imshow(img_pixels, cmap='gray')\n",
    "    plt.show()"
   ]
  },
  {
   "cell_type": "code",
   "execution_count": 17,
   "metadata": {},
   "outputs": [],
   "source": [
    "def euclidean_distance(a, b):\n",
    "    return np.linalg.norm(a-b)"
   ]
  },
  {
   "cell_type": "code",
   "execution_count": 18,
   "metadata": {},
   "outputs": [],
   "source": [
    "def get_initial_centroids(k, data):\n",
    "    return data[np.random.choice(data.shape[0], k, replace=False)]"
   ]
  },
  {
   "cell_type": "code",
   "execution_count": 10,
   "metadata": {},
   "outputs": [],
   "source": [
    "def get_item_cluster_label(centroids, x):\n",
    "    k = len(centroids)\n",
    "    distances = np.zeros(k)\n",
    "    \n",
    "    for i in range(k):\n",
    "        centroid = centroids[i]\n",
    "        distances[i] = euclidean_distance(centroid, x)\n",
    "        \n",
    "    return np.argmin(distances)"
   ]
  },
  {
   "cell_type": "code",
   "execution_count": 11,
   "metadata": {},
   "outputs": [],
   "source": [
    "def get_cluster_labels(data, centroids):\n",
    "    cluster_labels = [None] * data.shape[0]\n",
    "    \n",
    "    for index in range(len(data)):\n",
    "        item = data[index]\n",
    "        label = get_item_cluster_label(centroids, item)\n",
    "        cluster_labels[index] = label\n",
    "        \n",
    "    return np.array(cluster_labels)"
   ]
  },
  {
   "cell_type": "code",
   "execution_count": 12,
   "metadata": {},
   "outputs": [],
   "source": [
    "def get_centroids(data, labels):\n",
    "    unique_clusters = np.unique(labels)\n",
    "    centroids = []\n",
    "    \n",
    "    for cluster_num in unique_clusters:\n",
    "        data_idxs = np.where(labels == cluster_num)\n",
    "        cluster_data = data[data_idxs]\n",
    "        centroids.append(np.mean(cluster_data, axis=0))\n",
    "        \n",
    "    return np.array(centroids)"
   ]
  },
  {
   "cell_type": "code",
   "execution_count": 304,
   "metadata": {},
   "outputs": [],
   "source": [
    "def k_means(data, k):\n",
    "    centroids = get_initial_centroids(k, data)\n",
    "    oldCentroinds = None\n",
    "    iterations = 0\n",
    "    \n",
    "    while iterations < 4:\n",
    "        iterations += 1\n",
    "        oldCentroinds = centroids\n",
    "        labels = get_cluster_labels(data, centroids)\n",
    "        centroids = get_centroids(data, labels)\n",
    "        \n",
    "        print(labels)\n",
    "        \n",
    "    return labels"
   ]
  },
  {
   "cell_type": "code",
   "execution_count": 305,
   "metadata": {},
   "outputs": [
    {
     "name": "stdout",
     "output_type": "stream",
     "text": [
      "[7 7 8 ... 3 5 0]\n",
      "[7 7 8 ... 3 5 0]\n",
      "[7 7 8 ... 3 5 0]\n",
      "[7 7 8 ... 3 5 0]\n"
     ]
    },
    {
     "data": {
      "text/plain": [
       "array([7, 7, 8, ..., 3, 5, 0])"
      ]
     },
     "execution_count": 305,
     "metadata": {},
     "output_type": "execute_result"
    }
   ],
   "source": [
    "k_means(images, 10)"
   ]
  },
  {
   "cell_type": "code",
   "execution_count": null,
   "metadata": {},
   "outputs": [],
   "source": []
  },
  {
   "cell_type": "code",
   "execution_count": null,
   "metadata": {},
   "outputs": [],
   "source": []
  },
  {
   "cell_type": "code",
   "execution_count": null,
   "metadata": {},
   "outputs": [],
   "source": []
  }
 ],
 "metadata": {
  "kernelspec": {
   "display_name": "Python 3",
   "language": "python",
   "name": "python3"
  },
  "language_info": {
   "codemirror_mode": {
    "name": "ipython",
    "version": 3
   },
   "file_extension": ".py",
   "mimetype": "text/x-python",
   "name": "python",
   "nbconvert_exporter": "python",
   "pygments_lexer": "ipython3",
   "version": "3.6.8"
  }
 },
 "nbformat": 4,
 "nbformat_minor": 2
}
