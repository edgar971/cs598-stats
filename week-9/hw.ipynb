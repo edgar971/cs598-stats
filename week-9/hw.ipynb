{
 "cells": [
  {
   "cell_type": "code",
   "execution_count": 1,
   "metadata": {},
   "outputs": [],
   "source": [
    "import pandas as pd\n",
    "import numpy as np\n",
    "import matplotlib.pyplot as plt\n",
    "import math, random"
   ]
  },
  {
   "cell_type": "code",
   "execution_count": 2,
   "metadata": {},
   "outputs": [],
   "source": [
    "def get_images_and_labels():\n",
    "    data = pd.read_csv('zip.train.csv')\n",
    "    labels = data.V1.to_numpy()\n",
    "    images = data.drop(columns=['Unnamed: 0', 'V1']).to_numpy()\n",
    "    return images, labels"
   ]
  },
  {
   "cell_type": "code",
   "execution_count": 3,
   "metadata": {},
   "outputs": [],
   "source": [
    "images, labels = get_images_and_labels()"
   ]
  },
  {
   "cell_type": "code",
   "execution_count": 4,
   "metadata": {},
   "outputs": [],
   "source": [
    "def showImage(pixels):\n",
    "    img_pixels = pixels.reshape((16,16))\n",
    "    plt.imshow(img_pixels, cmap='gray')\n",
    "    plt.show()"
   ]
  },
  {
   "cell_type": "code",
   "execution_count": 6,
   "metadata": {},
   "outputs": [],
   "source": [
    "def euclidean_distance(a, b):\n",
    "    return np.linalg.norm(a-b)"
   ]
  },
  {
   "cell_type": "code",
   "execution_count": 7,
   "metadata": {},
   "outputs": [],
   "source": [
    "class KMeans:\n",
    "    def __init__(self, k):\n",
    "        self.k = k          \n",
    "        self.means = None \n",
    "        self.labels = None\n",
    "\n",
    "    def get_item_label(self, x):\n",
    "        distances = np.zeros(self.k)\n",
    "\n",
    "        for i in range(self.k):\n",
    "            centroid = self.means[i]\n",
    "            distances[i] = euclidean_distance(centroid, x)\n",
    "\n",
    "        return np.argmin(distances)\n",
    "    \n",
    "    \n",
    "    def get_cluster_labels(self, data):\n",
    "        cluster_labels = [None] * data.shape[0]\n",
    "\n",
    "        for index in range(len(data)):\n",
    "            item = data[index]\n",
    "            label = self.get_item_label(item)\n",
    "            cluster_labels[index] = label\n",
    "\n",
    "        return np.array(cluster_labels)\n",
    "    \n",
    "    def get_initial_centroids(self, data):\n",
    "        return data[np.random.choice(data.shape[0], self.k, replace=False)]\n",
    "\n",
    "    def train(self, data):\n",
    "        self.means = self.get_initial_centroids(data)\n",
    "        \n",
    "        while True:\n",
    "            new_labels = self.get_cluster_labels(data)\n",
    "\n",
    "            if np.array_equal(self.labels, new_labels):\n",
    "                return\n",
    "\n",
    "            self.labels = new_labels\n",
    "\n",
    "            for i in range(self.k):\n",
    "                i_points = [p for p, a in zip(data, self.labels) if a == i]\n",
    "                if i_points:\n",
    "                    self.means[i] = np.mean(i_points, axis=0)"
   ]
  },
  {
   "cell_type": "code",
   "execution_count": 12,
   "metadata": {},
   "outputs": [],
   "source": [
    "model = KMeans(5)"
   ]
  },
  {
   "cell_type": "code",
   "execution_count": 13,
   "metadata": {},
   "outputs": [],
   "source": [
    "model.train(images)"
   ]
  },
  {
   "cell_type": "code",
   "execution_count": 14,
   "metadata": {},
   "outputs": [
    {
     "data": {
      "text/plain": [
       "array([3, 0, 3, ..., 2, 0, 1])"
      ]
     },
     "execution_count": 14,
     "metadata": {},
     "output_type": "execute_result"
    }
   ],
   "source": [
    "model.labels"
   ]
  },
  {
   "cell_type": "code",
   "execution_count": 16,
   "metadata": {},
   "outputs": [
    {
     "data": {
      "image/png": "[encoded data removed]",
      "text/plain": [
       "<Figure size 432x288 with 1 Axes>"
      ]
     },
     "metadata": {},
     "output_type": "display_data"
    }
   ],
   "source": [
    "showImage(images[0])"
   ]
  },
  {
   "cell_type": "code",
   "execution_count": null,
   "metadata": {},
   "outputs": [],
   "source": []
  }
 ],
 "metadata": {
  "kernelspec": {
   "display_name": "Python 3",
   "language": "python",
   "name": "python3"
  },
  "language_info": {
   "codemirror_mode": {
    "name": "ipython",
    "version": 3
   },
   "file_extension": ".py",
   "mimetype": "text/x-python",
   "name": "python",
   "nbconvert_exporter": "python",
   "pygments_lexer": "ipython3",
   "version": "3.6.8"
  }
 },
 "nbformat": 4,
 "nbformat_minor": 2
}
